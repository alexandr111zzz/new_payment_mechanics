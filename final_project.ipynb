{
 "cells": [
  {
   "cell_type": "code",
   "execution_count": 1,
   "metadata": {},
   "outputs": [],
   "source": [
    "import pandas as pd\n",
    "import numpy as np\n",
    "import pingouin as pg\n",
    "import seaborn as sns\n",
    "import scipy.stats as ss\n",
    "import matplotlib.pyplot as plt\n",
    "from tqdm.auto import tqdm\n",
    "\n",
    "# Библиотеки для скачивания файлов с яндекс-диска\n",
    "import requests\n",
    "from urllib.parse import urlencode\n",
    "\n",
    "# Библиотеки для игнорирования предупрждений\n",
    "import warnings\n",
    "warnings.filterwarnings('ignore')"
   ]
  },
  {
   "cell_type": "code",
   "execution_count": 2,
   "metadata": {},
   "outputs": [],
   "source": [
    "sns.set(\n",
    "    font_scale=1.6,\n",
    "    style=\"whitegrid\"\n",
    "        )"
   ]
  },
  {
   "cell_type": "markdown",
   "metadata": {},
   "source": [
    "Одной из основных задач аналитика в нашей команде является корректное проведение экспериментов. Для этого мы применяем метод A/B–тестирования. В ходе тестирования одной гипотезы целевой группе была предложена новая механика оплаты услуг на сайте, у контрольной группы оставалась базовая механика. В качестве задания Вам необходимо проанализировать итоги эксперимента и сделать вывод, стоит ли запускать новую механику оплаты на всех пользователей."
   ]
  },
  {
   "cell_type": "markdown",
   "metadata": {},
   "source": [
    "* groups.csv - файл с информацией о принадлежности пользователя к контрольной или экспериментальной группе (А – контроль, B – целевая группа) \n",
    "* groups_add.csv - дополнительный файл с пользователями, который вам прислали спустя 2 дня после передачи данных\n",
    "* active_studs.csv - файл с информацией о пользователях, которые зашли на платформу в дни проведения эксперимента. \n",
    "* checks.csv - файл с информацией об оплатах пользователей в дни проведения эксперимента. "
   ]
  },
  {
   "cell_type": "markdown",
   "metadata": {},
   "source": [
    "Вопросы\n",
    "\n",
    "* Предлагаем Вам ответить на следующие вопросы:\n",
    "* На какие метрики Вы смотрите в ходе анализа и почему?\n",
    "* Имеются ли различия в показателях и с чем они могут быть связаны?\n",
    "* Являются ли эти различия статистически значимыми?\n",
    "* Стоит ли запускать новую механику на всех пользователей?\n",
    "\n",
    "Требования к ответу\n",
    "\n",
    "* При выполнении тестового задания необходимо использовать язык программирования Python. \n",
    "* В файле обязательно должны быть комментарии к тем действиям, которые Вы выполняете с данными. \n",
    "* Файл должен представлять собой законченный отчёт с выводами, сделанными в ходе исследования."
   ]
  },
  {
   "cell_type": "markdown",
   "metadata": {},
   "source": [
    "# Задание 1. A/B–тестирование"
   ]
  },
  {
   "cell_type": "markdown",
   "metadata": {},
   "source": [
    "## Подготовка исходных данных"
   ]
  },
  {
   "cell_type": "code",
   "execution_count": 3,
   "metadata": {},
   "outputs": [],
   "source": [
    "# Ссылки на исходные данные\n",
    "\n",
    "groups_path = 'https://disk.yandex.ru/d/58Us0DWOzuWAjg'\n",
    "groups_add_path = 'https://disk.yandex.ru/d/3aARY-P9pfaksg'\n",
    "active_studs_path = 'https://disk.yandex.ru/d/prbgU-rZpiXVYg'\n",
    "checks_path = 'https://disk.yandex.ru/d/84hTmELphW2sqQ'\n",
    "\n",
    "base_path = 'https://cloud-api.yandex.net/v1/disk/public/resources/download?'"
   ]
  },
  {
   "cell_type": "code",
   "execution_count": 4,
   "metadata": {},
   "outputs": [],
   "source": [
    "# Получение загрузочных ссылок на исходные данные\n",
    "\n",
    "for paths in [groups_path, groups_add_path, active_studs_path, checks_path]:\n",
    "    final_path = base_path + urlencode(dict(public_key=paths))\n",
    "    response = requests.get(final_path)\n",
    "    download_path = response.json()['href']\n",
    "    \n",
    "    if paths == groups_path:\n",
    "        groups_path = download_path\n",
    "    elif paths == groups_add_path:\n",
    "        groups_add_path = download_path\n",
    "    elif paths == active_studs_path:\n",
    "        active_studs_path = download_path\n",
    "    else:\n",
    "        checks_path = download_path"
   ]
  },
  {
   "cell_type": "code",
   "execution_count": 5,
   "metadata": {},
   "outputs": [],
   "source": [
    "# Импорт исходных данных\n",
    "\n",
    "df_groups = pd.read_csv(groups_path, sep = ';')\n",
    "df_groups_add = pd.read_csv(groups_add_path)\n",
    "df_active_studs = pd.read_csv(active_studs_path)\n",
    "df_checks = pd.read_csv(checks_path, sep = \";\")"
   ]
  },
  {
   "cell_type": "code",
   "execution_count": 6,
   "metadata": {},
   "outputs": [
    {
     "data": {
      "text/plain": [
       "74576"
      ]
     },
     "execution_count": 6,
     "metadata": {},
     "output_type": "execute_result"
    }
   ],
   "source": [
    "# Объединим исходные и добавленные данные\n",
    "\n",
    "df_all = pd.concat([df_groups, df_groups_add])\n",
    "df_all.shape[0]"
   ]
  },
  {
   "cell_type": "code",
   "execution_count": 7,
   "metadata": {},
   "outputs": [
    {
     "data": {
      "text/html": [
       "<div>\n",
       "<style scoped>\n",
       "    .dataframe tbody tr th:only-of-type {\n",
       "        vertical-align: middle;\n",
       "    }\n",
       "\n",
       "    .dataframe tbody tr th {\n",
       "        vertical-align: top;\n",
       "    }\n",
       "\n",
       "    .dataframe thead th {\n",
       "        text-align: right;\n",
       "    }\n",
       "</style>\n",
       "<table border=\"1\" class=\"dataframe\">\n",
       "  <thead>\n",
       "    <tr style=\"text-align: right;\">\n",
       "      <th></th>\n",
       "      <th>id</th>\n",
       "      <th>grp</th>\n",
       "    </tr>\n",
       "  </thead>\n",
       "  <tbody>\n",
       "    <tr>\n",
       "      <th>0</th>\n",
       "      <td>1489</td>\n",
       "      <td>B</td>\n",
       "    </tr>\n",
       "  </tbody>\n",
       "</table>\n",
       "</div>"
      ],
      "text/plain": [
       "     id grp\n",
       "0  1489   B"
      ]
     },
     "execution_count": 7,
     "metadata": {},
     "output_type": "execute_result"
    }
   ],
   "source": [
    "df_all.head(1)"
   ]
  },
  {
   "cell_type": "code",
   "execution_count": 8,
   "metadata": {},
   "outputs": [],
   "source": [
    "# Переименуем колонки\n",
    "\n",
    "df_active_studs = df_active_studs.rename(columns = {'student_id': 'id'})\n",
    "df_checks = df_checks.rename(columns = {'student_id': 'id'})"
   ]
  },
  {
   "cell_type": "code",
   "execution_count": 9,
   "metadata": {},
   "outputs": [
    {
     "data": {
      "text/plain": [
       "8341"
      ]
     },
     "execution_count": 9,
     "metadata": {},
     "output_type": "execute_result"
    }
   ],
   "source": [
    "# Создадим df, отражающий принадлежность активных пользователей к той или иной группе\n",
    "\n",
    "df_all_active_with_grp = df_all.merge(df_active_studs, on='id', how='right')\n",
    "df_all_active_with_grp.shape[0]"
   ]
  },
  {
   "cell_type": "code",
   "execution_count": 10,
   "metadata": {},
   "outputs": [
    {
     "data": {
      "text/html": [
       "<div>\n",
       "<style scoped>\n",
       "    .dataframe tbody tr th:only-of-type {\n",
       "        vertical-align: middle;\n",
       "    }\n",
       "\n",
       "    .dataframe tbody tr th {\n",
       "        vertical-align: top;\n",
       "    }\n",
       "\n",
       "    .dataframe thead th {\n",
       "        text-align: right;\n",
       "    }\n",
       "</style>\n",
       "<table border=\"1\" class=\"dataframe\">\n",
       "  <thead>\n",
       "    <tr style=\"text-align: right;\">\n",
       "      <th></th>\n",
       "      <th>id</th>\n",
       "      <th>grp</th>\n",
       "    </tr>\n",
       "  </thead>\n",
       "  <tbody>\n",
       "    <tr>\n",
       "      <th>0</th>\n",
       "      <td>581585</td>\n",
       "      <td>A</td>\n",
       "    </tr>\n",
       "  </tbody>\n",
       "</table>\n",
       "</div>"
      ],
      "text/plain": [
       "       id grp\n",
       "0  581585   A"
      ]
     },
     "execution_count": 10,
     "metadata": {},
     "output_type": "execute_result"
    }
   ],
   "source": [
    "df_all_active_with_grp.head(1)"
   ]
  },
  {
   "cell_type": "code",
   "execution_count": 11,
   "metadata": {},
   "outputs": [
    {
     "data": {
      "text/plain": [
       "541"
      ]
     },
     "execution_count": 11,
     "metadata": {},
     "output_type": "execute_result"
    }
   ],
   "source": [
    "# Создадим df, отражающий сгруппированных активных пользователей, совершивших покупку\n",
    "\n",
    "df_all_active_checks_with_grp = df_checks.merge(df_all_active_with_grp, on = 'id', how = 'left')\n",
    "df_all_active_checks_with_grp.shape[0]"
   ]
  },
  {
   "cell_type": "code",
   "execution_count": 12,
   "metadata": {},
   "outputs": [
    {
     "data": {
      "text/html": [
       "<div>\n",
       "<style scoped>\n",
       "    .dataframe tbody tr th:only-of-type {\n",
       "        vertical-align: middle;\n",
       "    }\n",
       "\n",
       "    .dataframe tbody tr th {\n",
       "        vertical-align: top;\n",
       "    }\n",
       "\n",
       "    .dataframe thead th {\n",
       "        text-align: right;\n",
       "    }\n",
       "</style>\n",
       "<table border=\"1\" class=\"dataframe\">\n",
       "  <thead>\n",
       "    <tr style=\"text-align: right;\">\n",
       "      <th></th>\n",
       "      <th>id</th>\n",
       "      <th>rev</th>\n",
       "      <th>grp</th>\n",
       "    </tr>\n",
       "  </thead>\n",
       "  <tbody>\n",
       "    <tr>\n",
       "      <th>0</th>\n",
       "      <td>1627</td>\n",
       "      <td>990.0</td>\n",
       "      <td>A</td>\n",
       "    </tr>\n",
       "  </tbody>\n",
       "</table>\n",
       "</div>"
      ],
      "text/plain": [
       "     id    rev grp\n",
       "0  1627  990.0   A"
      ]
     },
     "execution_count": 12,
     "metadata": {},
     "output_type": "execute_result"
    }
   ],
   "source": [
    "df_all_active_checks_with_grp.head(1)"
   ]
  },
  {
   "cell_type": "code",
   "execution_count": 13,
   "metadata": {},
   "outputs": [
    {
     "data": {
      "text/plain": [
       "id       0\n",
       "rev      0\n",
       "grp    149\n",
       "dtype: int64"
      ]
     },
     "execution_count": 13,
     "metadata": {},
     "output_type": "execute_result"
    }
   ],
   "source": [
    "# Обнаружены пользователи, совершившие покупку, но без принадлежности к группе\n",
    "# По тем или иным причинам они не попали в исходный df активных пользователей\n",
    "\n",
    "df_all_active_checks_with_grp.isna().sum()"
   ]
  },
  {
   "cell_type": "code",
   "execution_count": 14,
   "metadata": {},
   "outputs": [
    {
     "data": {
      "text/plain": [
       "149"
      ]
     },
     "execution_count": 14,
     "metadata": {},
     "output_type": "execute_result"
    }
   ],
   "source": [
    "# Выделим эту группу пользователей в отдельный df\n",
    "\n",
    "df_nonact = df_all_active_checks_with_grp.query('grp !=\"A\" & grp !=\"B\"')\n",
    "df_nonact.shape[0]"
   ]
  },
  {
   "cell_type": "code",
   "execution_count": 15,
   "metadata": {},
   "outputs": [
    {
     "data": {
      "text/html": [
       "<div>\n",
       "<style scoped>\n",
       "    .dataframe tbody tr th:only-of-type {\n",
       "        vertical-align: middle;\n",
       "    }\n",
       "\n",
       "    .dataframe tbody tr th {\n",
       "        vertical-align: top;\n",
       "    }\n",
       "\n",
       "    .dataframe thead th {\n",
       "        text-align: right;\n",
       "    }\n",
       "</style>\n",
       "<table border=\"1\" class=\"dataframe\">\n",
       "  <thead>\n",
       "    <tr style=\"text-align: right;\">\n",
       "      <th></th>\n",
       "      <th>id</th>\n",
       "      <th>rev</th>\n",
       "      <th>grp</th>\n",
       "    </tr>\n",
       "  </thead>\n",
       "  <tbody>\n",
       "    <tr>\n",
       "      <th>1</th>\n",
       "      <td>3185</td>\n",
       "      <td>690.0</td>\n",
       "      <td>NaN</td>\n",
       "    </tr>\n",
       "  </tbody>\n",
       "</table>\n",
       "</div>"
      ],
      "text/plain": [
       "     id    rev  grp\n",
       "1  3185  690.0  NaN"
      ]
     },
     "execution_count": 15,
     "metadata": {},
     "output_type": "execute_result"
    }
   ],
   "source": [
    "df_nonact.head(1)"
   ]
  },
  {
   "cell_type": "code",
   "execution_count": 16,
   "metadata": {},
   "outputs": [
    {
     "data": {
      "text/plain": [
       "8490"
      ]
     },
     "execution_count": 16,
     "metadata": {},
     "output_type": "execute_result"
    }
   ],
   "source": [
    "# Сформируем исправленный df активных пользователей\n",
    "\n",
    "df_active_studs_corr = pd.concat([df_nonact, df_active_studs]).drop(['rev','grp'], axis=1)\n",
    "df_active_studs_corr.shape[0]"
   ]
  },
  {
   "cell_type": "code",
   "execution_count": 17,
   "metadata": {},
   "outputs": [],
   "source": [
    "# Присвоим атрибут, отражающий активных пользователей\n",
    "\n",
    "df_active_studs_corr['act'] = 1"
   ]
  },
  {
   "cell_type": "code",
   "execution_count": 18,
   "metadata": {},
   "outputs": [
    {
     "data": {
      "text/html": [
       "<div>\n",
       "<style scoped>\n",
       "    .dataframe tbody tr th:only-of-type {\n",
       "        vertical-align: middle;\n",
       "    }\n",
       "\n",
       "    .dataframe tbody tr th {\n",
       "        vertical-align: top;\n",
       "    }\n",
       "\n",
       "    .dataframe thead th {\n",
       "        text-align: right;\n",
       "    }\n",
       "</style>\n",
       "<table border=\"1\" class=\"dataframe\">\n",
       "  <thead>\n",
       "    <tr style=\"text-align: right;\">\n",
       "      <th></th>\n",
       "      <th>id</th>\n",
       "      <th>act</th>\n",
       "    </tr>\n",
       "  </thead>\n",
       "  <tbody>\n",
       "    <tr>\n",
       "      <th>1</th>\n",
       "      <td>3185</td>\n",
       "      <td>1</td>\n",
       "    </tr>\n",
       "  </tbody>\n",
       "</table>\n",
       "</div>"
      ],
      "text/plain": [
       "     id  act\n",
       "1  3185    1"
      ]
     },
     "execution_count": 18,
     "metadata": {},
     "output_type": "execute_result"
    }
   ],
   "source": [
    "df_active_studs_corr.head(1)"
   ]
  },
  {
   "cell_type": "code",
   "execution_count": 19,
   "metadata": {},
   "outputs": [
    {
     "data": {
      "text/plain": [
       "74576"
      ]
     },
     "execution_count": 19,
     "metadata": {},
     "output_type": "execute_result"
    }
   ],
   "source": [
    "# Создадим df, отражающий принадлежность всех пользователей к той или иной группе\n",
    "\n",
    "df_all_with_grp = df_all.merge(df_active_studs_corr, on='id', how='left')\n",
    "df_all_with_grp.act.fillna(0, inplace=True)\n",
    "df_all_with_grp.shape[0]"
   ]
  },
  {
   "cell_type": "code",
   "execution_count": 20,
   "metadata": {},
   "outputs": [
    {
     "data": {
      "text/html": [
       "<div>\n",
       "<style scoped>\n",
       "    .dataframe tbody tr th:only-of-type {\n",
       "        vertical-align: middle;\n",
       "    }\n",
       "\n",
       "    .dataframe tbody tr th {\n",
       "        vertical-align: top;\n",
       "    }\n",
       "\n",
       "    .dataframe thead th {\n",
       "        text-align: right;\n",
       "    }\n",
       "</style>\n",
       "<table border=\"1\" class=\"dataframe\">\n",
       "  <thead>\n",
       "    <tr style=\"text-align: right;\">\n",
       "      <th></th>\n",
       "      <th>id</th>\n",
       "      <th>grp</th>\n",
       "      <th>act</th>\n",
       "    </tr>\n",
       "  </thead>\n",
       "  <tbody>\n",
       "    <tr>\n",
       "      <th>0</th>\n",
       "      <td>1489</td>\n",
       "      <td>B</td>\n",
       "      <td>0.0</td>\n",
       "    </tr>\n",
       "  </tbody>\n",
       "</table>\n",
       "</div>"
      ],
      "text/plain": [
       "     id grp  act\n",
       "0  1489   B  0.0"
      ]
     },
     "execution_count": 20,
     "metadata": {},
     "output_type": "execute_result"
    }
   ],
   "source": [
    "df_all_with_grp.head(1)"
   ]
  },
  {
   "cell_type": "code",
   "execution_count": 21,
   "metadata": {},
   "outputs": [],
   "source": [
    "# Создадим df, отражающий ВСЕХ сгруппированных пользователей\n",
    "# В столбце rev вместо NaN вставим 0\n",
    "# Отразим факты оплаты и активности юзеров в отдельных столбцах\n",
    "\n",
    "final_df = df_all_with_grp.merge(df_checks, on = 'id', how = 'left')\n",
    "final_df.rev.fillna(0, inplace=True)\n",
    "final_df['act'] = final_df.act > 0\n",
    "final_df['pay'] = final_df.rev > 0"
   ]
  },
  {
   "cell_type": "code",
   "execution_count": 22,
   "metadata": {},
   "outputs": [
    {
     "data": {
      "text/html": [
       "<div>\n",
       "<style scoped>\n",
       "    .dataframe tbody tr th:only-of-type {\n",
       "        vertical-align: middle;\n",
       "    }\n",
       "\n",
       "    .dataframe tbody tr th {\n",
       "        vertical-align: top;\n",
       "    }\n",
       "\n",
       "    .dataframe thead th {\n",
       "        text-align: right;\n",
       "    }\n",
       "</style>\n",
       "<table border=\"1\" class=\"dataframe\">\n",
       "  <thead>\n",
       "    <tr style=\"text-align: right;\">\n",
       "      <th></th>\n",
       "      <th>id</th>\n",
       "      <th>grp</th>\n",
       "      <th>act</th>\n",
       "      <th>rev</th>\n",
       "      <th>pay</th>\n",
       "    </tr>\n",
       "  </thead>\n",
       "  <tbody>\n",
       "    <tr>\n",
       "      <th>0</th>\n",
       "      <td>1489</td>\n",
       "      <td>B</td>\n",
       "      <td>False</td>\n",
       "      <td>0.0</td>\n",
       "      <td>False</td>\n",
       "    </tr>\n",
       "    <tr>\n",
       "      <th>1</th>\n",
       "      <td>1627</td>\n",
       "      <td>A</td>\n",
       "      <td>True</td>\n",
       "      <td>990.0</td>\n",
       "      <td>True</td>\n",
       "    </tr>\n",
       "    <tr>\n",
       "      <th>2</th>\n",
       "      <td>1768</td>\n",
       "      <td>B</td>\n",
       "      <td>False</td>\n",
       "      <td>0.0</td>\n",
       "      <td>False</td>\n",
       "    </tr>\n",
       "    <tr>\n",
       "      <th>3</th>\n",
       "      <td>1783</td>\n",
       "      <td>B</td>\n",
       "      <td>False</td>\n",
       "      <td>0.0</td>\n",
       "      <td>False</td>\n",
       "    </tr>\n",
       "    <tr>\n",
       "      <th>4</th>\n",
       "      <td>1794</td>\n",
       "      <td>A</td>\n",
       "      <td>False</td>\n",
       "      <td>0.0</td>\n",
       "      <td>False</td>\n",
       "    </tr>\n",
       "    <tr>\n",
       "      <th>...</th>\n",
       "      <td>...</td>\n",
       "      <td>...</td>\n",
       "      <td>...</td>\n",
       "      <td>...</td>\n",
       "      <td>...</td>\n",
       "    </tr>\n",
       "    <tr>\n",
       "      <th>74571</th>\n",
       "      <td>200247820</td>\n",
       "      <td>B</td>\n",
       "      <td>False</td>\n",
       "      <td>0.0</td>\n",
       "      <td>False</td>\n",
       "    </tr>\n",
       "    <tr>\n",
       "      <th>74572</th>\n",
       "      <td>201032527</td>\n",
       "      <td>B</td>\n",
       "      <td>False</td>\n",
       "      <td>0.0</td>\n",
       "      <td>False</td>\n",
       "    </tr>\n",
       "    <tr>\n",
       "      <th>74573</th>\n",
       "      <td>201067612</td>\n",
       "      <td>B</td>\n",
       "      <td>False</td>\n",
       "      <td>0.0</td>\n",
       "      <td>False</td>\n",
       "    </tr>\n",
       "    <tr>\n",
       "      <th>74574</th>\n",
       "      <td>201067653</td>\n",
       "      <td>B</td>\n",
       "      <td>False</td>\n",
       "      <td>0.0</td>\n",
       "      <td>False</td>\n",
       "    </tr>\n",
       "    <tr>\n",
       "      <th>74575</th>\n",
       "      <td>201067659</td>\n",
       "      <td>B</td>\n",
       "      <td>False</td>\n",
       "      <td>0.0</td>\n",
       "      <td>False</td>\n",
       "    </tr>\n",
       "  </tbody>\n",
       "</table>\n",
       "<p>74576 rows × 5 columns</p>\n",
       "</div>"
      ],
      "text/plain": [
       "              id grp    act    rev    pay\n",
       "0           1489   B  False    0.0  False\n",
       "1           1627   A   True  990.0   True\n",
       "2           1768   B  False    0.0  False\n",
       "3           1783   B  False    0.0  False\n",
       "4           1794   A  False    0.0  False\n",
       "...          ...  ..    ...    ...    ...\n",
       "74571  200247820   B  False    0.0  False\n",
       "74572  201032527   B  False    0.0  False\n",
       "74573  201067612   B  False    0.0  False\n",
       "74574  201067653   B  False    0.0  False\n",
       "74575  201067659   B  False    0.0  False\n",
       "\n",
       "[74576 rows x 5 columns]"
      ]
     },
     "execution_count": 22,
     "metadata": {},
     "output_type": "execute_result"
    }
   ],
   "source": [
    "final_df"
   ]
  },
  {
   "cell_type": "code",
   "execution_count": 23,
   "metadata": {},
   "outputs": [
    {
     "data": {
      "text/plain": [
       "id     0\n",
       "grp    0\n",
       "act    0\n",
       "rev    0\n",
       "pay    0\n",
       "dtype: int64"
      ]
     },
     "execution_count": 23,
     "metadata": {},
     "output_type": "execute_result"
    }
   ],
   "source": [
    "# Проверяем, всё отлично\n",
    "\n",
    "final_df.isna().sum()"
   ]
  },
  {
   "cell_type": "code",
   "execution_count": 24,
   "metadata": {},
   "outputs": [
    {
     "data": {
      "text/plain": [
       "0"
      ]
     },
     "execution_count": 24,
     "metadata": {},
     "output_type": "execute_result"
    }
   ],
   "source": [
    "final_df.id.duplicated().sum()"
   ]
  },
  {
   "cell_type": "markdown",
   "metadata": {},
   "source": [
    "## Проверка репрезентативности выборок"
   ]
  },
  {
   "cell_type": "code",
   "execution_count": 25,
   "metadata": {
    "scrolled": false
   },
   "outputs": [
    {
     "data": {
      "text/plain": [
       "<AxesSubplot:xlabel='rev', ylabel='Count'>"
      ]
     },
     "execution_count": 25,
     "metadata": {},
     "output_type": "execute_result"
    },
    {
     "data": {
      "image/png": "[encoded data removed]",
      "text/plain": [
       "<Figure size 1152x432 with 1 Axes>"
      ]
     },
     "metadata": {},
     "output_type": "display_data"
    }
   ],
   "source": [
    "# В первую очередь построим графики и визульно оценим выборки\n",
    "# Распределение сильно отличается от нормального\n",
    "# По графику можно выявить выброс (в районе 1900)\n",
    "\n",
    "plt.figure(figsize=(16,6))\n",
    "sns.histplot(data = final_df.query('rev > 0'), \n",
    "              x = 'rev', \n",
    "              hue = 'grp', \n",
    "              palette = 'winter',\n",
    "              alpha = 0.3,\n",
    "              element = 'step',\n",
    "              bins = 20)"
   ]
  },
  {
   "cell_type": "code",
   "execution_count": 26,
   "metadata": {},
   "outputs": [
    {
     "data": {
      "text/plain": [
       "<AxesSubplot:xlabel='grp', ylabel='rev'>"
      ]
     },
     "execution_count": 26,
     "metadata": {},
     "output_type": "execute_result"
    },
    {
     "data": {
      "image/png": "[encoded data removed]",
      "text/plain": [
       "<Figure size 1152x432 with 1 Axes>"
      ]
     },
     "metadata": {},
     "output_type": "display_data"
    }
   ],
   "source": [
    "# На боксплотах, как и на предыдущем графике, наблюдается увеличение показателя выручки в тестовой группе\n",
    "\n",
    "plt.figure(figsize=(16,6))\n",
    "sns.boxplot(data=final_df.query('rev > 0'), x='grp', y='rev')"
   ]
  },
  {
   "cell_type": "code",
   "execution_count": 27,
   "metadata": {},
   "outputs": [
    {
     "data": {
      "text/plain": [
       "'264473,287008,299195,308549,308594,330737,331312,338677,366127,368342,384731,521164,526310,536848,600890,703252,720651,759073,766755,766874,800185,806723,879402,926967,987129,1000052,1008928,1024467,1029642,1036096,1037236,1045136,1050825,1077515,1086218,1089482,1097225,1108686,1116874,1135439,1147732,1220488,1220810,1225044,1232221,1316069,1318118,1358182,1410414,1410693,1467890,1519814,1540324,1551921,1554194,1568415,1625302,1638517,1687177,1783273,1851744,1880452,1897820,1903217,2071359,2081846,2174339,2388577,2393822,2394657,2557593,2575187,2686297,2692209,2712604,2735665,2896010,2914580,2996381,3013878,3054644,3097956,3121370,3143818,3156691,3204592,3232706,3236909,3274600,3278734,3282270,3303702,3312112,3319672,3335339,3354191,3365536,3423411,3456377,3516039,3530122,3554807,3730883,3821501,3845821,3885006,3967955,3968980,3995801,4051351,4218092,4247427,4272388,4352425,4465732,4472446,4506719,4523975,4555061,4673307,4778580,4789014,4873135,4875778,4923312,5004439,5031164,5252412,5295654,5303305,5480804,5481541,5599663,5609523,5645737,5651566,5662322,5681918,5740903'"
      ]
     },
     "execution_count": 27,
     "metadata": {},
     "output_type": "execute_result"
    }
   ],
   "source": [
    "# Попробуем найти закономерность в данных, значительно выбивающихся из общей выборки\n",
    "\n",
    "id_with_rev_1900 = final_df.query('rev > 1800 & rev < 2000').id.apply(str).to_list()\n",
    "s=','.join(id_with_rev_1900)\n",
    "s"
   ]
  },
  {
   "cell_type": "code",
   "execution_count": 28,
   "metadata": {},
   "outputs": [
    {
     "data": {
      "text/plain": [
       "<AxesSubplot:xlabel='id'>"
      ]
     },
     "execution_count": 28,
     "metadata": {},
     "output_type": "execute_result"
    },
    {
     "data": {
      "image/png": "[encoded data removed]",
      "text/plain": [
       "<Figure size 1152x432 with 1 Axes>"
      ]
     },
     "metadata": {},
     "output_type": "display_data"
    }
   ],
   "source": [
    "# Судя по поверхностному осмотру, какой-либо закономерности не выявлено\n",
    "\n",
    "plt.figure(figsize=(16,6))\n",
    "sns.distplot(final_df.query('rev > 1800 & rev < 2000').id, kde = False, bins=30)"
   ]
  },
  {
   "cell_type": "code",
   "execution_count": 29,
   "metadata": {},
   "outputs": [
    {
     "data": {
      "text/plain": [
       "1900.0000    97\n",
       "1900.0001    36\n",
       "1980.0000     4\n",
       "1830.0000     1\n",
       "1968.0000     1\n",
       "Name: rev, dtype: int64"
      ]
     },
     "execution_count": 29,
     "metadata": {},
     "output_type": "execute_result"
    }
   ],
   "source": [
    "# Чтобы сделать однозначный вывод, не хватает исходных данных\n",
    "# Среди причин подобного поведения юзеров можно предположить, что в целевой выборке просто было предложено выгодное предложение\n",
    "# стоимостью 1900\n",
    "# Невозможно сделать вывод о нерепрезентативности тестовой выборки, обладая исходной информацией\n",
    "\n",
    "final_df.query('rev > 1800 & rev < 2000').rev.value_counts()"
   ]
  },
  {
   "cell_type": "markdown",
   "metadata": {},
   "source": [
    "## Исследование необходимых метрик"
   ]
  },
  {
   "cell_type": "code",
   "execution_count": 30,
   "metadata": {
    "scrolled": true
   },
   "outputs": [
    {
     "data": {
      "text/html": [
       "<div>\n",
       "<style scoped>\n",
       "    .dataframe tbody tr th:only-of-type {\n",
       "        vertical-align: middle;\n",
       "    }\n",
       "\n",
       "    .dataframe tbody tr th {\n",
       "        vertical-align: top;\n",
       "    }\n",
       "\n",
       "    .dataframe thead th {\n",
       "        text-align: right;\n",
       "    }\n",
       "</style>\n",
       "<table border=\"1\" class=\"dataframe\">\n",
       "  <thead>\n",
       "    <tr style=\"text-align: right;\">\n",
       "      <th></th>\n",
       "      <th>grp</th>\n",
       "      <th>sum_id</th>\n",
       "    </tr>\n",
       "  </thead>\n",
       "  <tbody>\n",
       "    <tr>\n",
       "      <th>0</th>\n",
       "      <td>A</td>\n",
       "      <td>14693</td>\n",
       "    </tr>\n",
       "    <tr>\n",
       "      <th>1</th>\n",
       "      <td>B</td>\n",
       "      <td>59883</td>\n",
       "    </tr>\n",
       "  </tbody>\n",
       "</table>\n",
       "</div>"
      ],
      "text/plain": [
       "  grp  sum_id\n",
       "0   A   14693\n",
       "1   B   59883"
      ]
     },
     "execution_count": 30,
     "metadata": {},
     "output_type": "execute_result"
    }
   ],
   "source": [
    "# Главными интересующими нас метриками, опираясь на наши исходные данные, будут являться\n",
    "# 1. Конверсия в покупку\n",
    "# 2. Показатель активности пользователей\n",
    "# 3. Средний доход на каждого пользователя (ARPU)\n",
    "# 4. Средний доход на каждого покупателя (ARPPU)\n",
    "\n",
    "# Для начала найдём общее кол-во пользователей по группам\n",
    "\n",
    "df_sum_id = final_df.groupby('grp', as_index=False).agg({'id': 'count'}).rename(columns=({'id': 'sum_id'}))\n",
    "df_sum_id"
   ]
  },
  {
   "cell_type": "code",
   "execution_count": 31,
   "metadata": {},
   "outputs": [
    {
     "data": {
      "text/html": [
       "<div>\n",
       "<style scoped>\n",
       "    .dataframe tbody tr th:only-of-type {\n",
       "        vertical-align: middle;\n",
       "    }\n",
       "\n",
       "    .dataframe tbody tr th {\n",
       "        vertical-align: top;\n",
       "    }\n",
       "\n",
       "    .dataframe thead th {\n",
       "        text-align: right;\n",
       "    }\n",
       "</style>\n",
       "<table border=\"1\" class=\"dataframe\">\n",
       "  <thead>\n",
       "    <tr style=\"text-align: right;\">\n",
       "      <th></th>\n",
       "      <th>grp</th>\n",
       "      <th>sum_act_id</th>\n",
       "    </tr>\n",
       "  </thead>\n",
       "  <tbody>\n",
       "    <tr>\n",
       "      <th>0</th>\n",
       "      <td>A</td>\n",
       "      <td>1567</td>\n",
       "    </tr>\n",
       "    <tr>\n",
       "      <th>1</th>\n",
       "      <td>B</td>\n",
       "      <td>6923</td>\n",
       "    </tr>\n",
       "  </tbody>\n",
       "</table>\n",
       "</div>"
      ],
      "text/plain": [
       "  grp  sum_act_id\n",
       "0   A        1567\n",
       "1   B        6923"
      ]
     },
     "execution_count": 31,
     "metadata": {},
     "output_type": "execute_result"
    }
   ],
   "source": [
    "# Найдём общее кол-во активных пользователей по группам\n",
    "\n",
    "df_sum_act_id = final_df.query('act == True').groupby('grp', as_index=False) \\\n",
    "                        .agg({'id': 'count'}).rename(columns=({'id': 'sum_act_id'}))\n",
    "df_sum_act_id"
   ]
  },
  {
   "cell_type": "code",
   "execution_count": 32,
   "metadata": {},
   "outputs": [
    {
     "data": {
      "text/html": [
       "<div>\n",
       "<style scoped>\n",
       "    .dataframe tbody tr th:only-of-type {\n",
       "        vertical-align: middle;\n",
       "    }\n",
       "\n",
       "    .dataframe tbody tr th {\n",
       "        vertical-align: top;\n",
       "    }\n",
       "\n",
       "    .dataframe thead th {\n",
       "        text-align: right;\n",
       "    }\n",
       "</style>\n",
       "<table border=\"1\" class=\"dataframe\">\n",
       "  <thead>\n",
       "    <tr style=\"text-align: right;\">\n",
       "      <th></th>\n",
       "      <th>grp</th>\n",
       "      <th>sum_buyer</th>\n",
       "    </tr>\n",
       "  </thead>\n",
       "  <tbody>\n",
       "    <tr>\n",
       "      <th>0</th>\n",
       "      <td>A</td>\n",
       "      <td>107</td>\n",
       "    </tr>\n",
       "    <tr>\n",
       "      <th>1</th>\n",
       "      <td>B</td>\n",
       "      <td>434</td>\n",
       "    </tr>\n",
       "  </tbody>\n",
       "</table>\n",
       "</div>"
      ],
      "text/plain": [
       "  grp  sum_buyer\n",
       "0   A        107\n",
       "1   B        434"
      ]
     },
     "execution_count": 32,
     "metadata": {},
     "output_type": "execute_result"
    }
   ],
   "source": [
    "# Найдём общее кол-во покупателей по группам\n",
    "\n",
    "df_sum_buyer = final_df.query('rev > 0').groupby('grp', as_index=False) \\\n",
    "                       .agg({'id': 'count'}).rename(columns=({'id': 'sum_buyer'}))\n",
    "df_sum_buyer"
   ]
  },
  {
   "cell_type": "code",
   "execution_count": 33,
   "metadata": {},
   "outputs": [
    {
     "data": {
      "text/html": [
       "<div>\n",
       "<style scoped>\n",
       "    .dataframe tbody tr th:only-of-type {\n",
       "        vertical-align: middle;\n",
       "    }\n",
       "\n",
       "    .dataframe tbody tr th {\n",
       "        vertical-align: top;\n",
       "    }\n",
       "\n",
       "    .dataframe thead th {\n",
       "        text-align: right;\n",
       "    }\n",
       "</style>\n",
       "<table border=\"1\" class=\"dataframe\">\n",
       "  <thead>\n",
       "    <tr style=\"text-align: right;\">\n",
       "      <th></th>\n",
       "      <th>grp</th>\n",
       "      <th>sum_rev</th>\n",
       "    </tr>\n",
       "  </thead>\n",
       "  <tbody>\n",
       "    <tr>\n",
       "      <th>0</th>\n",
       "      <td>A</td>\n",
       "      <td>92096.0</td>\n",
       "    </tr>\n",
       "    <tr>\n",
       "      <th>1</th>\n",
       "      <td>B</td>\n",
       "      <td>481230.0</td>\n",
       "    </tr>\n",
       "  </tbody>\n",
       "</table>\n",
       "</div>"
      ],
      "text/plain": [
       "  grp   sum_rev\n",
       "0   A   92096.0\n",
       "1   B  481230.0"
      ]
     },
     "execution_count": 33,
     "metadata": {},
     "output_type": "execute_result"
    }
   ],
   "source": [
    "# Найдём общую сумму затрат по группам\n",
    "\n",
    "df_sum_rev = final_df.groupby('grp', as_index=False).agg({'rev': 'sum'}).round(2).rename(columns=({'rev': 'sum_rev'}))\n",
    "df_sum_rev"
   ]
  },
  {
   "cell_type": "code",
   "execution_count": 34,
   "metadata": {},
   "outputs": [
    {
     "data": {
      "text/html": [
       "<div>\n",
       "<style scoped>\n",
       "    .dataframe tbody tr th:only-of-type {\n",
       "        vertical-align: middle;\n",
       "    }\n",
       "\n",
       "    .dataframe tbody tr th {\n",
       "        vertical-align: top;\n",
       "    }\n",
       "\n",
       "    .dataframe thead th {\n",
       "        text-align: right;\n",
       "    }\n",
       "</style>\n",
       "<table border=\"1\" class=\"dataframe\">\n",
       "  <thead>\n",
       "    <tr style=\"text-align: right;\">\n",
       "      <th></th>\n",
       "      <th>grp</th>\n",
       "      <th>ARPPU</th>\n",
       "    </tr>\n",
       "  </thead>\n",
       "  <tbody>\n",
       "    <tr>\n",
       "      <th>0</th>\n",
       "      <td>A</td>\n",
       "      <td>860.71</td>\n",
       "    </tr>\n",
       "    <tr>\n",
       "      <th>1</th>\n",
       "      <td>B</td>\n",
       "      <td>1108.82</td>\n",
       "    </tr>\n",
       "  </tbody>\n",
       "</table>\n",
       "</div>"
      ],
      "text/plain": [
       "  grp    ARPPU\n",
       "0   A   860.71\n",
       "1   B  1108.82"
      ]
     },
     "execution_count": 34,
     "metadata": {},
     "output_type": "execute_result"
    }
   ],
   "source": [
    "# Найдём показатели среднего чека покупателей для каждой из групп (ARPPU - average revenue per paying users)\n",
    "\n",
    "df_ARPPU = final_df.query('rev > 0').groupby('grp', as_index=False) \\\n",
    "                   .agg({'rev': 'mean'}).round(2).rename(columns=({'rev': 'ARPPU'}))\n",
    "df_ARPPU"
   ]
  },
  {
   "cell_type": "code",
   "execution_count": 35,
   "metadata": {},
   "outputs": [
    {
     "data": {
      "text/html": [
       "<div>\n",
       "<style scoped>\n",
       "    .dataframe tbody tr th:only-of-type {\n",
       "        vertical-align: middle;\n",
       "    }\n",
       "\n",
       "    .dataframe tbody tr th {\n",
       "        vertical-align: top;\n",
       "    }\n",
       "\n",
       "    .dataframe thead th {\n",
       "        text-align: right;\n",
       "    }\n",
       "</style>\n",
       "<table border=\"1\" class=\"dataframe\">\n",
       "  <thead>\n",
       "    <tr style=\"text-align: right;\">\n",
       "      <th></th>\n",
       "      <th>grp</th>\n",
       "      <th>sum_id</th>\n",
       "      <th>sum_act_id</th>\n",
       "      <th>sum_buyer</th>\n",
       "      <th>sum_rev</th>\n",
       "      <th>ARPPU</th>\n",
       "    </tr>\n",
       "  </thead>\n",
       "  <tbody>\n",
       "    <tr>\n",
       "      <th>0</th>\n",
       "      <td>A</td>\n",
       "      <td>14693</td>\n",
       "      <td>1567</td>\n",
       "      <td>107</td>\n",
       "      <td>92096.0</td>\n",
       "      <td>860.71</td>\n",
       "    </tr>\n",
       "    <tr>\n",
       "      <th>1</th>\n",
       "      <td>B</td>\n",
       "      <td>59883</td>\n",
       "      <td>6923</td>\n",
       "      <td>434</td>\n",
       "      <td>481230.0</td>\n",
       "      <td>1108.82</td>\n",
       "    </tr>\n",
       "  </tbody>\n",
       "</table>\n",
       "</div>"
      ],
      "text/plain": [
       "  grp  sum_id  sum_act_id  sum_buyer   sum_rev    ARPPU\n",
       "0   A   14693        1567        107   92096.0   860.71\n",
       "1   B   59883        6923        434  481230.0  1108.82"
      ]
     },
     "execution_count": 35,
     "metadata": {},
     "output_type": "execute_result"
    }
   ],
   "source": [
    "# Объединим всё в один df\n",
    " \n",
    "df_info = df_sum_id.merge(df_sum_act_id).merge(df_sum_buyer).merge(df_sum_rev).merge(df_ARPPU)\n",
    "df_info"
   ]
  },
  {
   "cell_type": "code",
   "execution_count": 36,
   "metadata": {},
   "outputs": [],
   "source": [
    "# Добавим конверсию в покупку активных пользователей для каждой из групп (CR - convertion rate)\n",
    "\n",
    "df_info['CR'] = ((df_info.sum_buyer / df_info.sum_act_id)*100).round(2)\n",
    "\n",
    "# Показатель активности юзеров (AU - active users)\n",
    "\n",
    "df_info['AU'] = ((df_info.sum_act_id / df_info.sum_id)*100).round(2)"
   ]
  },
  {
   "cell_type": "code",
   "execution_count": 37,
   "metadata": {},
   "outputs": [
    {
     "data": {
      "text/html": [
       "<div>\n",
       "<style scoped>\n",
       "    .dataframe tbody tr th:only-of-type {\n",
       "        vertical-align: middle;\n",
       "    }\n",
       "\n",
       "    .dataframe tbody tr th {\n",
       "        vertical-align: top;\n",
       "    }\n",
       "\n",
       "    .dataframe thead th {\n",
       "        text-align: right;\n",
       "    }\n",
       "</style>\n",
       "<table border=\"1\" class=\"dataframe\">\n",
       "  <thead>\n",
       "    <tr style=\"text-align: right;\">\n",
       "      <th></th>\n",
       "      <th>grp</th>\n",
       "      <th>sum_id</th>\n",
       "      <th>sum_act_id</th>\n",
       "      <th>sum_buyer</th>\n",
       "      <th>sum_rev</th>\n",
       "      <th>ARPPU</th>\n",
       "      <th>CR</th>\n",
       "      <th>AU</th>\n",
       "    </tr>\n",
       "  </thead>\n",
       "  <tbody>\n",
       "    <tr>\n",
       "      <th>0</th>\n",
       "      <td>A</td>\n",
       "      <td>14693</td>\n",
       "      <td>1567</td>\n",
       "      <td>107</td>\n",
       "      <td>92096.0</td>\n",
       "      <td>860.71</td>\n",
       "      <td>6.83</td>\n",
       "      <td>10.66</td>\n",
       "    </tr>\n",
       "    <tr>\n",
       "      <th>1</th>\n",
       "      <td>B</td>\n",
       "      <td>59883</td>\n",
       "      <td>6923</td>\n",
       "      <td>434</td>\n",
       "      <td>481230.0</td>\n",
       "      <td>1108.82</td>\n",
       "      <td>6.27</td>\n",
       "      <td>11.56</td>\n",
       "    </tr>\n",
       "  </tbody>\n",
       "</table>\n",
       "</div>"
      ],
      "text/plain": [
       "  grp  sum_id  sum_act_id  sum_buyer   sum_rev    ARPPU    CR     AU\n",
       "0   A   14693        1567        107   92096.0   860.71  6.83  10.66\n",
       "1   B   59883        6923        434  481230.0  1108.82  6.27  11.56"
      ]
     },
     "execution_count": 37,
     "metadata": {},
     "output_type": "execute_result"
    }
   ],
   "source": [
    "df_info"
   ]
  },
  {
   "cell_type": "code",
   "execution_count": 38,
   "metadata": {},
   "outputs": [
    {
     "data": {
      "text/plain": [
       "28.83"
      ]
     },
     "execution_count": 38,
     "metadata": {},
     "output_type": "execute_result"
    }
   ],
   "source": [
    "# Исходя из полученных данных можно сделать следующие выводы: \n",
    "# Наблюдается увеличение показателя средней выручки на одного платящего пользователя на 28.83%\n",
    "\n",
    "ARPPU = (((df_info.ARPPU[1]-df_info.ARPPU[0])/df_info.ARPPU[0])*100).round(2)\n",
    "ARPPU"
   ]
  },
  {
   "cell_type": "code",
   "execution_count": 39,
   "metadata": {},
   "outputs": [
    {
     "data": {
      "text/plain": [
       "-8.2"
      ]
     },
     "execution_count": 39,
     "metadata": {},
     "output_type": "execute_result"
    }
   ],
   "source": [
    "# Показатель конверсии в тестовой группе из активного пользователя в покупателя уменьшился на 8.20%\n",
    "\n",
    "CR = (((df_info.CR[1]-df_info.CR[0])/df_info.CR[0])*100).round(2)\n",
    "CR"
   ]
  },
  {
   "cell_type": "code",
   "execution_count": 40,
   "metadata": {},
   "outputs": [
    {
     "data": {
      "text/plain": [
       "8.44"
      ]
     },
     "execution_count": 40,
     "metadata": {},
     "output_type": "execute_result"
    }
   ],
   "source": [
    "# Показатель активности пользователей в тестовой группе также вырос на 8.44%\n",
    "\n",
    "AU = (((df_info.AU[1]-df_info.AU[0])/df_info.AU[0])*100).round(2)\n",
    "AU"
   ]
  },
  {
   "cell_type": "markdown",
   "metadata": {},
   "source": [
    "## Применение статистических тестов"
   ]
  },
  {
   "cell_type": "code",
   "execution_count": 41,
   "metadata": {},
   "outputs": [],
   "source": [
    "# Произведём отбор только платящих пользователей\n",
    "\n",
    "control = final_df.query('grp == \"A\" and rev > 0')\n",
    "test    = final_df.query('grp == \"B\" and rev > 0')"
   ]
  },
  {
   "cell_type": "code",
   "execution_count": 42,
   "metadata": {},
   "outputs": [
    {
     "data": {
      "text/plain": [
       "LeveneResult(statistic=2.4570366586563943, pvalue=0.11758618682510892)"
      ]
     },
     "execution_count": 42,
     "metadata": {},
     "output_type": "execute_result"
    }
   ],
   "source": [
    "# Т.к. распределения в выборках отличаются от нормальных, для определения уровня значимости\n",
    "# различий дисперсий в контрольной и тестовой группах воспользуемся критерием Левене\n",
    "# Критерий Левене является альтернативой критерию Бартлетта. \n",
    "# Считается, что критерий Левене менее чувствителен к отклонениям от нормальности.\n",
    "\n",
    "# H0: Различие дисперсии между данными группами не значимо\n",
    "\n",
    "# H1: Различие дисперсии между данными группами значимо\n",
    "\n",
    "# При р > 0,05 различие дисперсии между данными группами не значимо, следовательно, их можно рассматривать как гомогенные. \n",
    "# В данном примере тест Левена не дает значимого результата (p=0.118), значит дисперсии гомогенные\n",
    "\n",
    "ss.levene(control.rev, test.rev, center='mean', proportiontocut=0.05)"
   ]
  },
  {
   "cell_type": "code",
   "execution_count": 43,
   "metadata": {},
   "outputs": [
    {
     "data": {
      "text/plain": [
       "Ttest_indResult(statistic=-3.0367637315797316, pvalue=0.0025070167572044644)"
      ]
     },
     "execution_count": 43,
     "metadata": {},
     "output_type": "execute_result"
    }
   ],
   "source": [
    "# дисперсии однородны, использование t-теста корректно. \n",
    "\n",
    "# p-value < 0.05, средний чек стат. значимо вырос\n",
    "\n",
    "ss.ttest_ind(control.rev, test.rev)"
   ]
  },
  {
   "cell_type": "code",
   "execution_count": 44,
   "metadata": {
    "scrolled": true
   },
   "outputs": [],
   "source": [
    "# Для оценки стат. значимых различий медианного чека применим метод бутстрапа\n",
    "\n",
    "# Объявим функцию, которая позволит проверять гипотезы с помощью бутстрапа\n",
    "\n",
    "def get_bootstrap(\n",
    "    data_column_1, # числовые значения первой выборки\n",
    "    data_column_2, # числовые значения второй выборки\n",
    "    boot_it = 1000, # количество бутстрэп-подвыборок\n",
    "    statistic = np.mean, # интересующая нас статистика\n",
    "    bootstrap_conf_level = 0.95 # уровень значимости\n",
    "):\n",
    "    boot_len = max([len(data_column_1), len(data_column_2)])\n",
    "    boot_data = []\n",
    "    for i in tqdm(range(boot_it)): # извлекаем подвыборки\n",
    "        samples_1 = data_column_1.sample(\n",
    "            boot_len, \n",
    "            replace = True # параметр возвращения\n",
    "        ).values\n",
    "        \n",
    "        samples_2 = data_column_2.sample(\n",
    "            boot_len, \n",
    "            replace = True\n",
    "        ).values\n",
    "        \n",
    "        boot_data.append(statistic(samples_1)-statistic(samples_2)) # mean() - применяем статистику\n",
    "        \n",
    "    pd_boot_data = pd.DataFrame(boot_data)\n",
    "        \n",
    "    left_quant = (1 - bootstrap_conf_level)/2\n",
    "    right_quant = 1 - (1 - bootstrap_conf_level) / 2\n",
    "    ci = pd_boot_data.quantile([left_quant, right_quant])\n",
    "        \n",
    "    p_value = min(sum(pd_boot_data[0] <= 0), sum(pd_boot_data[0] >= 0)) * 2 / len(pd_boot_data[0])    \n",
    "        \n",
    "    p_1 = ss.norm.cdf(\n",
    "        x = 0, \n",
    "        loc = np.mean(boot_data), \n",
    "        scale = np.std(boot_data)\n",
    "    )\n",
    "    p_2 = ss.norm.cdf(\n",
    "        x = 0, \n",
    "        loc = -np.mean(boot_data), \n",
    "        scale = np.std(boot_data)\n",
    "    )\n",
    "    p_value_norm = min(p_1, p_2) * 2\n",
    "        \n",
    "    # Визуализация\n",
    "    plt.hist(pd_boot_data[0], bins = 50)\n",
    "    \n",
    "    plt.style.use('ggplot')\n",
    "    plt.vlines(ci,ymin=0,ymax=50,linestyle='--')\n",
    "    plt.xlabel('boot_data')\n",
    "    plt.ylabel('frequency')\n",
    "    plt.title(\"Histogram of boot_data\")\n",
    "    plt.show()\n",
    "       \n",
    "    return {\"boot_data\": boot_data, \n",
    "            \"ci\": ci, \n",
    "            \"p_value\": p_value,\n",
    "            \"p_value_norm\": p_value_norm}"
   ]
  },
  {
   "cell_type": "code",
   "execution_count": 45,
   "metadata": {},
   "outputs": [
    {
     "data": {
      "application/vnd.jupyter.widget-view+json": {
       "model_id": "4d2a2aa0da124027842107013f18bdb6",
       "version_major": 2,
       "version_minor": 0
      },
      "text/plain": [
       "  0%|          | 0/5000 [00:00<?, ?it/s]"
      ]
     },
     "metadata": {},
     "output_type": "display_data"
    },
    {
     "data": {
      "image/png": "[encoded data removed]",
      "text/plain": [
       "<Figure size 1152x504 with 1 Axes>"
      ]
     },
     "metadata": {},
     "output_type": "display_data"
    }
   ],
   "source": [
    "# Оценим стат. значимость различий медианных чеков\n",
    "\n",
    "plt.figure(figsize=(16,7))\n",
    "bs_median = get_bootstrap(test.rev, control.rev, statistic=np.median, boot_it=5000)"
   ]
  },
  {
   "cell_type": "code",
   "execution_count": 46,
   "metadata": {},
   "outputs": [
    {
     "data": {
      "text/plain": [
       "0.0004"
      ]
     },
     "execution_count": 46,
     "metadata": {},
     "output_type": "execute_result"
    }
   ],
   "source": [
    "# p-value < 0.05, медианный чек стат. значимо вырос\n",
    "\n",
    "bs_median['p_value']"
   ]
  },
  {
   "cell_type": "code",
   "execution_count": 47,
   "metadata": {},
   "outputs": [
    {
     "data": {
      "text/html": [
       "<div>\n",
       "<style scoped>\n",
       "    .dataframe tbody tr th:only-of-type {\n",
       "        vertical-align: middle;\n",
       "    }\n",
       "\n",
       "    .dataframe tbody tr th {\n",
       "        vertical-align: top;\n",
       "    }\n",
       "\n",
       "    .dataframe thead th {\n",
       "        text-align: right;\n",
       "    }\n",
       "</style>\n",
       "<table border=\"1\" class=\"dataframe\">\n",
       "  <thead>\n",
       "    <tr style=\"text-align: right;\">\n",
       "      <th></th>\n",
       "      <th>0</th>\n",
       "    </tr>\n",
       "  </thead>\n",
       "  <tbody>\n",
       "    <tr>\n",
       "      <th>0.025</th>\n",
       "      <td>150.0</td>\n",
       "    </tr>\n",
       "    <tr>\n",
       "      <th>0.975</th>\n",
       "      <td>400.0</td>\n",
       "    </tr>\n",
       "  </tbody>\n",
       "</table>\n",
       "</div>"
      ],
      "text/plain": [
       "           0\n",
       "0.025  150.0\n",
       "0.975  400.0"
      ]
     },
     "execution_count": 47,
     "metadata": {},
     "output_type": "execute_result"
    }
   ],
   "source": [
    "bs_median['ci']"
   ]
  },
  {
   "cell_type": "code",
   "execution_count": 48,
   "metadata": {},
   "outputs": [],
   "source": [
    "# Для определения стат. значимости снижения конверсии студента в платящего воспользуемся критерием хи-квадрат,\n",
    "# т.к. имеем категориальные данные\n",
    "\n",
    "# H0: Взаимосвязь между системой оплаты и конверсией отсутствует\n",
    "\n",
    "# H1: Взаимосвязь между системой оплаты и конверсией есть\n",
    "\n",
    "expected, observed, stats = pg.chi2_independence(final_df.query('act == True'), x='grp', y='pay', correction=False)"
   ]
  },
  {
   "cell_type": "code",
   "execution_count": 49,
   "metadata": {},
   "outputs": [
    {
     "data": {
      "text/html": [
       "<div>\n",
       "<style scoped>\n",
       "    .dataframe tbody tr th:only-of-type {\n",
       "        vertical-align: middle;\n",
       "    }\n",
       "\n",
       "    .dataframe tbody tr th {\n",
       "        vertical-align: top;\n",
       "    }\n",
       "\n",
       "    .dataframe thead th {\n",
       "        text-align: right;\n",
       "    }\n",
       "</style>\n",
       "<table border=\"1\" class=\"dataframe\">\n",
       "  <thead>\n",
       "    <tr style=\"text-align: right;\">\n",
       "      <th>pay</th>\n",
       "      <th>False</th>\n",
       "      <th>True</th>\n",
       "    </tr>\n",
       "    <tr>\n",
       "      <th>grp</th>\n",
       "      <th></th>\n",
       "      <th></th>\n",
       "    </tr>\n",
       "  </thead>\n",
       "  <tbody>\n",
       "    <tr>\n",
       "      <th>A</th>\n",
       "      <td>1460</td>\n",
       "      <td>107</td>\n",
       "    </tr>\n",
       "    <tr>\n",
       "      <th>B</th>\n",
       "      <td>6489</td>\n",
       "      <td>434</td>\n",
       "    </tr>\n",
       "  </tbody>\n",
       "</table>\n",
       "</div>"
      ],
      "text/plain": [
       "pay  False  True\n",
       "grp             \n",
       "A     1460   107\n",
       "B     6489   434"
      ]
     },
     "execution_count": 49,
     "metadata": {},
     "output_type": "execute_result"
    }
   ],
   "source": [
    "observed"
   ]
  },
  {
   "cell_type": "code",
   "execution_count": 50,
   "metadata": {},
   "outputs": [
    {
     "data": {
      "text/html": [
       "<div>\n",
       "<style scoped>\n",
       "    .dataframe tbody tr th:only-of-type {\n",
       "        vertical-align: middle;\n",
       "    }\n",
       "\n",
       "    .dataframe tbody tr th {\n",
       "        vertical-align: top;\n",
       "    }\n",
       "\n",
       "    .dataframe thead th {\n",
       "        text-align: right;\n",
       "    }\n",
       "</style>\n",
       "<table border=\"1\" class=\"dataframe\">\n",
       "  <thead>\n",
       "    <tr style=\"text-align: right;\">\n",
       "      <th>pay</th>\n",
       "      <th>False</th>\n",
       "      <th>True</th>\n",
       "    </tr>\n",
       "    <tr>\n",
       "      <th>grp</th>\n",
       "      <th></th>\n",
       "      <th></th>\n",
       "    </tr>\n",
       "  </thead>\n",
       "  <tbody>\n",
       "    <tr>\n",
       "      <th>A</th>\n",
       "      <td>1467.147585</td>\n",
       "      <td>99.852415</td>\n",
       "    </tr>\n",
       "    <tr>\n",
       "      <th>B</th>\n",
       "      <td>6481.852415</td>\n",
       "      <td>441.147585</td>\n",
       "    </tr>\n",
       "  </tbody>\n",
       "</table>\n",
       "</div>"
      ],
      "text/plain": [
       "pay        False        True\n",
       "grp                         \n",
       "A    1467.147585   99.852415\n",
       "B    6481.852415  441.147585"
      ]
     },
     "execution_count": 50,
     "metadata": {},
     "output_type": "execute_result"
    }
   ],
   "source": [
    "expected"
   ]
  },
  {
   "cell_type": "code",
   "execution_count": 51,
   "metadata": {},
   "outputs": [
    {
     "data": {
      "text/html": [
       "<div>\n",
       "<style scoped>\n",
       "    .dataframe tbody tr th:only-of-type {\n",
       "        vertical-align: middle;\n",
       "    }\n",
       "\n",
       "    .dataframe tbody tr th {\n",
       "        vertical-align: top;\n",
       "    }\n",
       "\n",
       "    .dataframe thead th {\n",
       "        text-align: right;\n",
       "    }\n",
       "</style>\n",
       "<table border=\"1\" class=\"dataframe\">\n",
       "  <thead>\n",
       "    <tr style=\"text-align: right;\">\n",
       "      <th></th>\n",
       "      <th>test</th>\n",
       "      <th>lambda</th>\n",
       "      <th>chi2</th>\n",
       "      <th>dof</th>\n",
       "      <th>pval</th>\n",
       "      <th>cramer</th>\n",
       "      <th>power</th>\n",
       "    </tr>\n",
       "  </thead>\n",
       "  <tbody>\n",
       "    <tr>\n",
       "      <th>0</th>\n",
       "      <td>pearson</td>\n",
       "      <td>1.000000</td>\n",
       "      <td>0.670145</td>\n",
       "      <td>1.0</td>\n",
       "      <td>0.413001</td>\n",
       "      <td>0.008884</td>\n",
       "      <td>0.129594</td>\n",
       "    </tr>\n",
       "    <tr>\n",
       "      <th>1</th>\n",
       "      <td>cressie-read</td>\n",
       "      <td>0.666667</td>\n",
       "      <td>0.666397</td>\n",
       "      <td>1.0</td>\n",
       "      <td>0.414311</td>\n",
       "      <td>0.008860</td>\n",
       "      <td>0.129137</td>\n",
       "    </tr>\n",
       "    <tr>\n",
       "      <th>2</th>\n",
       "      <td>log-likelihood</td>\n",
       "      <td>0.000000</td>\n",
       "      <td>0.659040</td>\n",
       "      <td>1.0</td>\n",
       "      <td>0.416899</td>\n",
       "      <td>0.008811</td>\n",
       "      <td>0.128241</td>\n",
       "    </tr>\n",
       "    <tr>\n",
       "      <th>3</th>\n",
       "      <td>freeman-tukey</td>\n",
       "      <td>-0.500000</td>\n",
       "      <td>0.653642</td>\n",
       "      <td>1.0</td>\n",
       "      <td>0.418814</td>\n",
       "      <td>0.008774</td>\n",
       "      <td>0.127583</td>\n",
       "    </tr>\n",
       "    <tr>\n",
       "      <th>4</th>\n",
       "      <td>mod-log-likelihood</td>\n",
       "      <td>-1.000000</td>\n",
       "      <td>0.648343</td>\n",
       "      <td>1.0</td>\n",
       "      <td>0.420706</td>\n",
       "      <td>0.008739</td>\n",
       "      <td>0.126938</td>\n",
       "    </tr>\n",
       "    <tr>\n",
       "      <th>5</th>\n",
       "      <td>neyman</td>\n",
       "      <td>-2.000000</td>\n",
       "      <td>0.638037</td>\n",
       "      <td>1.0</td>\n",
       "      <td>0.424423</td>\n",
       "      <td>0.008669</td>\n",
       "      <td>0.125683</td>\n",
       "    </tr>\n",
       "  </tbody>\n",
       "</table>\n",
       "</div>"
      ],
      "text/plain": [
       "                 test    lambda      chi2  dof      pval    cramer     power\n",
       "0             pearson  1.000000  0.670145  1.0  0.413001  0.008884  0.129594\n",
       "1        cressie-read  0.666667  0.666397  1.0  0.414311  0.008860  0.129137\n",
       "2      log-likelihood  0.000000  0.659040  1.0  0.416899  0.008811  0.128241\n",
       "3       freeman-tukey -0.500000  0.653642  1.0  0.418814  0.008774  0.127583\n",
       "4  mod-log-likelihood -1.000000  0.648343  1.0  0.420706  0.008739  0.126938\n",
       "5              neyman -2.000000  0.638037  1.0  0.424423  0.008669  0.125683"
      ]
     },
     "execution_count": 51,
     "metadata": {},
     "output_type": "execute_result"
    }
   ],
   "source": [
    "# p-value > 0.05 => нет основания отклонить нулевую гипотезу.\n",
    "\n",
    "stats"
   ]
  },
  {
   "cell_type": "code",
   "execution_count": 52,
   "metadata": {},
   "outputs": [],
   "source": [
    "# Для определения стат. значимости увеличения показателя активности студентов в тестовой группе \n",
    "# воспользуемся критерием хи-квадрат, т.к. имеем категориальные данные\n",
    "\n",
    "# H0: Взаимосвязь между системой оплаты и увеличением показателя активности студентов отсутствует\n",
    "\n",
    "# H1: Взаимосвязь между системой оплаты и увеличением показателя активности студентов есть\n",
    "\n",
    "expected, observed, stats = pg.chi2_independence(final_df, x='grp', y='act', correction=False)"
   ]
  },
  {
   "cell_type": "code",
   "execution_count": 53,
   "metadata": {},
   "outputs": [
    {
     "data": {
      "text/html": [
       "<div>\n",
       "<style scoped>\n",
       "    .dataframe tbody tr th:only-of-type {\n",
       "        vertical-align: middle;\n",
       "    }\n",
       "\n",
       "    .dataframe tbody tr th {\n",
       "        vertical-align: top;\n",
       "    }\n",
       "\n",
       "    .dataframe thead th {\n",
       "        text-align: right;\n",
       "    }\n",
       "</style>\n",
       "<table border=\"1\" class=\"dataframe\">\n",
       "  <thead>\n",
       "    <tr style=\"text-align: right;\">\n",
       "      <th>act</th>\n",
       "      <th>False</th>\n",
       "      <th>True</th>\n",
       "    </tr>\n",
       "    <tr>\n",
       "      <th>grp</th>\n",
       "      <th></th>\n",
       "      <th></th>\n",
       "    </tr>\n",
       "  </thead>\n",
       "  <tbody>\n",
       "    <tr>\n",
       "      <th>A</th>\n",
       "      <td>13020.296047</td>\n",
       "      <td>1672.703953</td>\n",
       "    </tr>\n",
       "    <tr>\n",
       "      <th>B</th>\n",
       "      <td>53065.703953</td>\n",
       "      <td>6817.296047</td>\n",
       "    </tr>\n",
       "  </tbody>\n",
       "</table>\n",
       "</div>"
      ],
      "text/plain": [
       "act         False         True\n",
       "grp                           \n",
       "A    13020.296047  1672.703953\n",
       "B    53065.703953  6817.296047"
      ]
     },
     "execution_count": 53,
     "metadata": {},
     "output_type": "execute_result"
    }
   ],
   "source": [
    "expected"
   ]
  },
  {
   "cell_type": "code",
   "execution_count": 54,
   "metadata": {},
   "outputs": [
    {
     "data": {
      "text/html": [
       "<div>\n",
       "<style scoped>\n",
       "    .dataframe tbody tr th:only-of-type {\n",
       "        vertical-align: middle;\n",
       "    }\n",
       "\n",
       "    .dataframe tbody tr th {\n",
       "        vertical-align: top;\n",
       "    }\n",
       "\n",
       "    .dataframe thead th {\n",
       "        text-align: right;\n",
       "    }\n",
       "</style>\n",
       "<table border=\"1\" class=\"dataframe\">\n",
       "  <thead>\n",
       "    <tr style=\"text-align: right;\">\n",
       "      <th>act</th>\n",
       "      <th>False</th>\n",
       "      <th>True</th>\n",
       "    </tr>\n",
       "    <tr>\n",
       "      <th>grp</th>\n",
       "      <th></th>\n",
       "      <th></th>\n",
       "    </tr>\n",
       "  </thead>\n",
       "  <tbody>\n",
       "    <tr>\n",
       "      <th>A</th>\n",
       "      <td>13126</td>\n",
       "      <td>1567</td>\n",
       "    </tr>\n",
       "    <tr>\n",
       "      <th>B</th>\n",
       "      <td>52960</td>\n",
       "      <td>6923</td>\n",
       "    </tr>\n",
       "  </tbody>\n",
       "</table>\n",
       "</div>"
      ],
      "text/plain": [
       "act  False  True\n",
       "grp             \n",
       "A    13126  1567\n",
       "B    52960  6923"
      ]
     },
     "execution_count": 54,
     "metadata": {},
     "output_type": "execute_result"
    }
   ],
   "source": [
    "observed"
   ]
  },
  {
   "cell_type": "code",
   "execution_count": 55,
   "metadata": {},
   "outputs": [
    {
     "data": {
      "text/html": [
       "<div>\n",
       "<style scoped>\n",
       "    .dataframe tbody tr th:only-of-type {\n",
       "        vertical-align: middle;\n",
       "    }\n",
       "\n",
       "    .dataframe tbody tr th {\n",
       "        vertical-align: top;\n",
       "    }\n",
       "\n",
       "    .dataframe thead th {\n",
       "        text-align: right;\n",
       "    }\n",
       "</style>\n",
       "<table border=\"1\" class=\"dataframe\">\n",
       "  <thead>\n",
       "    <tr style=\"text-align: right;\">\n",
       "      <th></th>\n",
       "      <th>test</th>\n",
       "      <th>lambda</th>\n",
       "      <th>chi2</th>\n",
       "      <th>dof</th>\n",
       "      <th>pval</th>\n",
       "      <th>cramer</th>\n",
       "      <th>power</th>\n",
       "    </tr>\n",
       "  </thead>\n",
       "  <tbody>\n",
       "    <tr>\n",
       "      <th>0</th>\n",
       "      <td>pearson</td>\n",
       "      <td>1.000000</td>\n",
       "      <td>9.387469</td>\n",
       "      <td>1.0</td>\n",
       "      <td>0.002185</td>\n",
       "      <td>0.011220</td>\n",
       "      <td>0.865189</td>\n",
       "    </tr>\n",
       "    <tr>\n",
       "      <th>1</th>\n",
       "      <td>cressie-read</td>\n",
       "      <td>0.666667</td>\n",
       "      <td>9.431855</td>\n",
       "      <td>1.0</td>\n",
       "      <td>0.002132</td>\n",
       "      <td>0.011246</td>\n",
       "      <td>0.866752</td>\n",
       "    </tr>\n",
       "    <tr>\n",
       "      <th>2</th>\n",
       "      <td>log-likelihood</td>\n",
       "      <td>0.000000</td>\n",
       "      <td>9.522219</td>\n",
       "      <td>1.0</td>\n",
       "      <td>0.002030</td>\n",
       "      <td>0.011300</td>\n",
       "      <td>0.869885</td>\n",
       "    </tr>\n",
       "    <tr>\n",
       "      <th>3</th>\n",
       "      <td>freeman-tukey</td>\n",
       "      <td>-0.500000</td>\n",
       "      <td>9.591412</td>\n",
       "      <td>1.0</td>\n",
       "      <td>0.001955</td>\n",
       "      <td>0.011341</td>\n",
       "      <td>0.872239</td>\n",
       "    </tr>\n",
       "    <tr>\n",
       "      <th>4</th>\n",
       "      <td>mod-log-likelihood</td>\n",
       "      <td>-1.000000</td>\n",
       "      <td>9.661848</td>\n",
       "      <td>1.0</td>\n",
       "      <td>0.001881</td>\n",
       "      <td>0.011382</td>\n",
       "      <td>0.874596</td>\n",
       "    </tr>\n",
       "    <tr>\n",
       "      <th>5</th>\n",
       "      <td>neyman</td>\n",
       "      <td>-2.000000</td>\n",
       "      <td>9.806549</td>\n",
       "      <td>1.0</td>\n",
       "      <td>0.001739</td>\n",
       "      <td>0.011467</td>\n",
       "      <td>0.879317</td>\n",
       "    </tr>\n",
       "  </tbody>\n",
       "</table>\n",
       "</div>"
      ],
      "text/plain": [
       "                 test    lambda      chi2  dof      pval    cramer     power\n",
       "0             pearson  1.000000  9.387469  1.0  0.002185  0.011220  0.865189\n",
       "1        cressie-read  0.666667  9.431855  1.0  0.002132  0.011246  0.866752\n",
       "2      log-likelihood  0.000000  9.522219  1.0  0.002030  0.011300  0.869885\n",
       "3       freeman-tukey -0.500000  9.591412  1.0  0.001955  0.011341  0.872239\n",
       "4  mod-log-likelihood -1.000000  9.661848  1.0  0.001881  0.011382  0.874596\n",
       "5              neyman -2.000000  9.806549  1.0  0.001739  0.011467  0.879317"
      ]
     },
     "execution_count": 55,
     "metadata": {},
     "output_type": "execute_result"
    }
   ],
   "source": [
    "# p-value < 0.05 => есть основания отклонить нулевую гипотезу.\n",
    "\n",
    "stats"
   ]
  },
  {
   "cell_type": "markdown",
   "metadata": {},
   "source": [
    "# Выводы\n",
    "1. Обнаружена некорректная запись исходных данных, 149 юзеров не попали в список активных клиентов, необходимо предпринять действия к устранению данной проблемы.\n",
    "2. Различие дисперсии между контрольной и тестовой группами не значимо.\n",
    "3. Средний чек в тестовой группе вырос на 28,83 %. T-test определил стат. значимое различие в среднем чеке. Также было выявлено стат. значимое различие медианных чеков методом бутстрапа.\n",
    "4. Снижение показателя конверсии на 8.20 % не является стат. значимым.\n",
    "5. Показатель активности студентов в тестовой группе стат. значимо увеличился на 8.44 % (Небольшая ремарка: нет данных по тому, за какой промежуток времени получены данные, поэтому интерпретировать эти значения оснований нет. Допустим, что эксперимент начался давно, пользователям нравятся нововведения и мы получили срез данных уже после внедрения новой фичи).\n",
    "6. При незначительном уменьшении конверсии из активного пользователя в покупателя наблюдается стат. значимые приросты среднего чека и показателя активности пользователей. Исходя из этого рекомендуется внедрить новую механику оплаты на всех пользователей."
   ]
  },
  {
   "cell_type": "markdown",
   "metadata": {},
   "source": [
    "# Задание 2. SQL\n",
    "## 2.1 Очень усердные ученики.\n",
    "\n",
    "### 2.1.1 Условие\n",
    "\n",
    "Образовательные курсы состоят из различных уроков, каждый из которых состоит из нескольких маленьких заданий. Каждое такое маленькое задание называется \"горошиной\".\n",
    "\n",
    "Назовём очень усердным учеником того пользователя, который хотя бы раз за текущий месяц правильно решил 20 горошин.\n",
    "### 2.1.2 Задача\n",
    "\n",
    "Дана таблица peas:\n",
    "\n",
    "    Название атрибута\tТип атрибута \tСмысловое значение\n",
    "    st_id\t            int\t          ID ученика\n",
    "    timest\t           timestamp\t    Время решения карточки\n",
    "    correct\t          bool\t         Правильно ли решена горошина?\n",
    "    subject\t          text\t         Дисциплина, в которой находится горошина\n",
    "Необходимо написать оптимальный запрос, который даст информацию о количестве очень усердных студентов за март 2020 года.\n",
    "\n",
    "NB! Под усердным студентом мы понимаем студента, который правильно решил 20 задач за текущий месяц."
   ]
  },
  {
   "cell_type": "code",
   "execution_count": 56,
   "metadata": {},
   "outputs": [],
   "source": [
    "import pandahouse as ph\n",
    "connection = {'database':'default',\n",
    "              'host': 'http://clickhouse.beslan.pro:8080',\n",
    "              'user':'student', \n",
    "              'password':'dpo_python_2020'\n",
    "             }"
   ]
  },
  {
   "cell_type": "code",
   "execution_count": 57,
   "metadata": {},
   "outputs": [],
   "source": [
    "query_2_1 = \"\"\"\n",
    "SELECT\n",
    "    uniqExact(student_id)\n",
    "FROM\n",
    "    (\n",
    "    SELECT \n",
    "          st_id as student_id,\n",
    "          sum(correct) as correct_answ\n",
    "    FROM\n",
    "        default.peas\n",
    "    WHERE toStartOfMonth(timest) = '2020-03-01'\n",
    "    GROUP BY st_id\n",
    "    HAVING correct_answ >= 20\n",
    "    )\n",
    "\"\"\""
   ]
  },
  {
   "cell_type": "code",
   "execution_count": 58,
   "metadata": {},
   "outputs": [
    {
     "data": {
      "text/plain": [
       "b'0\\n'"
      ]
     },
     "execution_count": 58,
     "metadata": {},
     "output_type": "execute_result"
    }
   ],
   "source": [
    "ph.execute(query_2_1, connection=connection)"
   ]
  },
  {
   "cell_type": "markdown",
   "metadata": {},
   "source": [
    "## 2.2 Оптимизация воронки\n",
    "### 2.2.1 Условие\n",
    "\n",
    "Образовательная платформа предлагает пройти студентам курсы по модели trial: студент может решить бесплатно лишь 30 горошин в день. Для неограниченного количества заданий в определенной дисциплине студенту необходимо приобрести полный доступ. Команда провела эксперимент, где был протестирован новый экран оплаты.\n",
    "\n",
    "### 2.2.2 Задача\n",
    "\n",
    "Дана таблицы: peas (см. выше), studs:\n",
    "\n",
    "    Название атрибута\tТип атрибута \tСмысловое значение\n",
    "    st_id\t            int \t         ID ученика\n",
    "    test_grp\t         ext \t         Метка ученика в данном эксперименте\n",
    "и final_project_check:\n",
    "\n",
    "    Название атрибута\tТип атрибута \tСмысловое значение\n",
    "    st_id\t            int \t         ID ученика\n",
    "    sale_time\t        timestamp\t    Время покупки\n",
    "    money\t            int\t          Цена, по которой приобрели данный курс\n",
    "    subject\t          text \t        Дисциплина, на которую приобрели полный доступ\n",
    "Необходимо в одном запросе выгрузить следующую информацию о группах пользователей:\n",
    "\n",
    "* ARPU\n",
    "* ARPAU \n",
    "* CR в покупку \n",
    "* СR активного пользователя в покупку \n",
    "* CR пользователя из активности по математике (subject = ’math’) в покупку курса по математике"
   ]
  },
  {
   "cell_type": "code",
   "execution_count": 59,
   "metadata": {},
   "outputs": [],
   "source": [
    "query_2_2 = \"\"\"\n",
    "SELECT ---- расчёт метрик\n",
    "    test_grp,\n",
    "    SUM(money) / uniqExact(st_id) as ARPU,\n",
    "    sumIf(money, act=1) / countIf(DISTINCT st_id, act=1) as ARPAU,\n",
    "    countIf(DISTINCT st_id, money>0) / uniqExact(st_id) as CR,\n",
    "    countIf(DISTINCT st_id, act=1 and money>0) / countIf(DISTINCT st_id, act=1)  as CR_active,\n",
    "    countIf(DISTINCT st_id, act=1 and M_money>0 and M_peas='1') / countIf(DISTINCT st_id, act=1 and M_peas='1') as CR_active_math  \n",
    "FROM    \n",
    "    (\n",
    "    SELECT  ---- все студенты + активные студенты + оплата курсов, добавим столбец, \n",
    "            ---- отражающий факт оплаты, и столбец с суммой затрат каждого юзера\n",
    "        st_id,\n",
    "        test_grp,\n",
    "        M_peas,\n",
    "        V_peas,\n",
    "        S_peas,\n",
    "        P_peas,\n",
    "        T_peas,\n",
    "        act,\n",
    "        M_money,\n",
    "        V_money,\n",
    "        S_money,\n",
    "        P_money,\n",
    "        T_money,\n",
    "    CASE \n",
    "    WHEN checks.st_id='' THEN 0 ELSE 1\n",
    "       END AS paid,\n",
    "       (M_money+V_money+S_money+P_money+T_money) AS money\n",
    "    FROM\n",
    "        (\n",
    "        SELECT  ---- все студенты + активные студенты, добавим столбец отражающий активность\n",
    "            st_id,\n",
    "            test_grp,\n",
    "            M_peas,\n",
    "            V_peas,\n",
    "            S_peas,\n",
    "            P_peas,\n",
    "            T_peas,\n",
    "        CASE \n",
    "        WHEN act_studs_with_subject_marks.st_id='' THEN 0 ELSE 1\n",
    "            END AS act\n",
    "        FROM\n",
    "            (\n",
    "            SELECT  ---- все студенты \n",
    "                *\n",
    "            FROM \n",
    "                default.studs\n",
    "            ) AS all_studs    \n",
    "            LEFT JOIN    \n",
    "            (\n",
    "            SELECT  -- отбор активных студентов, за активность примем тот факт, что они есть в таблице \"peas\",\n",
    "                    -- отобразим в одной строке для каждого юзера факт активности по каждому из предметов\n",
    "                DISTINCT(st_id),\n",
    "                sum(M_peas) as M_peas,\n",
    "                sum(V_peas) as V_peas,\n",
    "                sum(S_peas) as S_peas,\n",
    "                sum(P_peas) as P_peas,\n",
    "                sum(T_peas) as T_peas\n",
    "            FROM\n",
    "                (\n",
    "                SELECT\n",
    "                    st_id,\n",
    "                    subject,\n",
    "                    case \n",
    "                    when subject='Math' then 1 else 0\n",
    "                    end as M_peas,\n",
    "                    case \n",
    "                    when subject='Vizualization' then 1 else 0\n",
    "                    end as V_peas,\n",
    "                    case \n",
    "                    when subject='Statistics' then 1 else 0\n",
    "                    end as S_peas,\n",
    "                    case \n",
    "                    when subject='Python' then 1 else 0\n",
    "                    end as P_peas,\n",
    "                    case \n",
    "                    when subject='Theory of probability' then 1 else 0\n",
    "                    end as T_peas\n",
    "                FROM \n",
    "                    default.peas\n",
    "                GROUP BY \n",
    "                    st_id,subject\n",
    "                )\n",
    "            GROUP BY \n",
    "                st_id\n",
    "            ) as act_studs_with_subject_marks\n",
    "            ON all_studs.st_id = act_studs_with_subject_marks.st_id\n",
    "        ) as all_studs_with_act_studs_with_subject_marks\n",
    "        LEFT JOIN \n",
    "        (\n",
    "        SELECT  -- отбор платежей по курсам, отобразим в одной строке для каждого юзера оплату по каждому из предметов\n",
    "            DISTINCT(st_id),\n",
    "            sum(M_money) as M_money,\n",
    "            sum(V_money) as V_money,\n",
    "            sum(S_money) as S_money,\n",
    "            sum(P_money) as P_money,\n",
    "            sum(T_money) as T_money\n",
    "        \n",
    "        FROM\n",
    "                (\n",
    "                SELECT\n",
    "                    st_id,\n",
    "                    money,\n",
    "                    subject,\n",
    "                    case \n",
    "                    when subject='Math' then money else 0\n",
    "                    end as M_money,\n",
    "                    case \n",
    "                    when subject='Vizualization' then money else 0\n",
    "                    end as V_money,\n",
    "                    case \n",
    "                    when subject='Statistics' then money else 0\n",
    "                    end as S_money,\n",
    "                    case \n",
    "                    when subject='Python' then money else 0\n",
    "                    end as P_money,\n",
    "                    case \n",
    "                    when subject='Theory of probability' then money else 0\n",
    "                    end as T_money\n",
    "                FROM \n",
    "                    default.final_project_check\n",
    "                GROUP BY \n",
    "                    st_id,money,subject\n",
    "                order by \n",
    "                    st_id\n",
    "                )\n",
    "        GROUP BY \n",
    "            st_id\n",
    "            ) as checks\n",
    "        ON all_studs_with_act_studs_with_subject_marks.st_id = checks.st_id\n",
    "    )\n",
    "GROUP BY\n",
    "    test_grp\n",
    "\"\"\""
   ]
  },
  {
   "cell_type": "code",
   "execution_count": 60,
   "metadata": {},
   "outputs": [
    {
     "data": {
      "text/plain": [
       "b'control\\t4540.983606557377\\t8393.939393939394\\t0.04918032786885246\\t0.09090909090909091\\t0.05660377358490566\\npilot\\t11508.474576271186\\t22832.167832167834\\t0.10847457627118644\\t0.2097902097902098\\t0.08888888888888889\\n'"
      ]
     },
     "execution_count": 60,
     "metadata": {},
     "output_type": "execute_result"
    }
   ],
   "source": [
    "ph.execute(query_2_2, connection=connection)"
   ]
  },
  {
   "cell_type": "markdown",
   "metadata": {},
   "source": [
    "# Задание 3. Python\n",
    "## 3.1 Задача\n",
    "\n",
    "* Реализуйте функцию, которая будет автоматически подгружать информацию из дополнительного файла groups_add.csv (заголовки могут отличаться) и на основании дополнительных параметров пересчитывать метрики.\n",
    "* Реализуйте функцию, которая будет строить графики по получаемым метрикам."
   ]
  },
  {
   "cell_type": "code",
   "execution_count": 61,
   "metadata": {},
   "outputs": [],
   "source": [
    "def updade_data(df_groups_add, df_groups=df_groups, df_active_studs=df_active_studs, df_checks=df_checks):\n",
    "    \n",
    "    '''\n",
    "    Функция для подгрузки информации из дополнительного файла и перерасчета метрик. \n",
    "    Приниммает: \n",
    "    df_groups - df с информацией о принадлежности пользователя к контрольной или экспериментальной группе,\n",
    "    df_groups_add - df с пользователями, который вам прислали после передачи данных,\n",
    "    df_active_studs - df с информацией о пользователях, которые зашли на платформу в дни проведения эксперимента,\n",
    "    df_checks - df с информацией об оплатах пользователей в дни проведения эксперимента\n",
    "    '''\n",
    "    \n",
    "    # Переименуем колонки\n",
    "    df_groups_add = df_groups_add.rename(columns={df_groups_add.columns[0]: 'id', df_groups_add.columns[1]: 'grp'})\n",
    "    df_active_studs = df_active_studs.rename(columns = {'student_id': 'id'})\n",
    "    df_checks = df_checks.rename(columns = {'student_id': 'id'})\n",
    "    \n",
    "    \n",
    "    # Объединим исходные и добавленные данные\n",
    "    df_all = pd.concat([df_groups, df_groups_add])\n",
    "\n",
    "    # Создадим df, отражающий принадлежность активных пользователей к той или иной группе\n",
    "    df_all_active_with_grp = df_all.merge(df_active_studs, on='id', how='right')\n",
    "    \n",
    "    # Создадим df, отражающий сгруппированных активных пользователей, совершивших покупку\n",
    "    df_all_active_checks_with_grp = df_checks.merge(df_all_active_with_grp, on = 'id', how = 'left')\n",
    "    \n",
    "    # Обнаружение пользователей, совершивших покупку, но без принадлежности к группе\n",
    "    if df_all_active_checks_with_grp.isna().sum()[2] != 0:\n",
    "        print(f'Обнаружено {df_all_active_checks_with_grp.isna().sum()[2]} пользователей, \\\n",
    "не отмеченных активными, необходимо проверить исходные данные')\n",
    "    \n",
    "    # Выделим эту группу пользователей в отдельный df\n",
    "    df_nonact = df_all_active_checks_with_grp.query('grp !=\"A\" & grp !=\"B\"')\n",
    "    \n",
    "    # Сформируем исправленный df активных пользователей, с присвоением атрибута активности\n",
    "    df_active_studs_corr = pd.concat([df_nonact, df_active_studs]).drop(['rev','grp'], axis=1)\n",
    "    df_active_studs_corr['act'] = 1\n",
    "    \n",
    "    # Создадим df, отражающий принадлежность всех пользователей к той или иной группе\n",
    "    df_all_with_grp = df_all.merge(df_active_studs_corr, on='id', how='left')\n",
    "    df_all_with_grp.act.fillna(0, inplace=True)\n",
    "    \n",
    "    # Создадим df, отражающий ВСЕХ сгруппированных пользователей\n",
    "    # В столбце rev вместо NaN вставим 0\n",
    "    # Отразим факты оплаты и активности юзеров в отдельных столбцах\n",
    "    final_df = df_all_with_grp.merge(df_checks, on = 'id', how = 'left')\n",
    "    final_df.rev.fillna(0, inplace=True)\n",
    "    final_df['act'] = final_df.act > 0\n",
    "    final_df['pay'] = final_df.rev > 0\n",
    "        \n",
    "    # Проводим проверку   \n",
    "    if final_df.id.duplicated().sum() != 0:\n",
    "        print('Имеются дубликаты в группах. Требуется проверка')\n",
    "    \n",
    "    # Для начала найдём общее кол-во пользователей по группам\n",
    "    df_sum_id = final_df.groupby('grp', as_index=False).agg({'id': 'count'}).rename(columns=({'id': 'sum_id'}))\n",
    "    \n",
    "    # Найдём общее кол-во активных пользователей по группам\n",
    "    df_sum_act_id = final_df.query('act == True').groupby('grp', as_index=False) \\\n",
    "                        .agg({'id': 'count'}).rename(columns=({'id': 'sum_act_id'}))\n",
    "    \n",
    "    # Найдём общее кол-во покупателей по группам\n",
    "    df_sum_buyer = final_df.query('rev > 0').groupby('grp', as_index=False) \\\n",
    "                       .agg({'id': 'count'}).rename(columns=({'id': 'sum_buyer'}))\n",
    "    \n",
    "    # Найдём общую сумму затрат по группам\n",
    "    df_sum_rev = final_df.groupby('grp', as_index=False).agg({'rev': 'sum'}).round(2).rename(columns=({'rev': 'sum_rev'}))\n",
    "    \n",
    "    # Найдём показатели среднего чека покупателей для каждой из групп (ARPPU - average revenue per paying users)\n",
    "    df_ARPPU = final_df.query('rev > 0').groupby('grp', as_index=False) \\\n",
    "                   .agg({'rev': 'mean'}).round(2).rename(columns=({'rev': 'ARPPU'}))\n",
    "    \n",
    "    # Объединим всё в один df\n",
    "    df_info = df_sum_id.merge(df_sum_act_id).merge(df_sum_buyer).merge(df_sum_rev).merge(df_ARPPU)\n",
    "    \n",
    "    # Добавим конверсию в покупку активных пользователей для каждой из групп (CR - convertion rate)\n",
    "    df_info['CR'] = ((df_info.sum_buyer / df_info.sum_act_id)*100).round(2)\n",
    "\n",
    "    # Показатель активности юзеров (AU - active users)\n",
    "    df_info['AU'] = ((df_info.sum_act_id / df_info.sum_id)*100).round(2)\n",
    "    \n",
    "    return df_info"
   ]
  },
  {
   "cell_type": "code",
   "execution_count": 62,
   "metadata": {},
   "outputs": [
    {
     "name": "stdout",
     "output_type": "stream",
     "text": [
      "Обнаружено 149 пользователей, не отмеченных активными, необходимо проверить исходные данные\n"
     ]
    },
    {
     "data": {
      "text/html": [
       "<div>\n",
       "<style scoped>\n",
       "    .dataframe tbody tr th:only-of-type {\n",
       "        vertical-align: middle;\n",
       "    }\n",
       "\n",
       "    .dataframe tbody tr th {\n",
       "        vertical-align: top;\n",
       "    }\n",
       "\n",
       "    .dataframe thead th {\n",
       "        text-align: right;\n",
       "    }\n",
       "</style>\n",
       "<table border=\"1\" class=\"dataframe\">\n",
       "  <thead>\n",
       "    <tr style=\"text-align: right;\">\n",
       "      <th></th>\n",
       "      <th>grp</th>\n",
       "      <th>sum_id</th>\n",
       "      <th>sum_act_id</th>\n",
       "      <th>sum_buyer</th>\n",
       "      <th>sum_rev</th>\n",
       "      <th>ARPPU</th>\n",
       "      <th>CR</th>\n",
       "      <th>AU</th>\n",
       "    </tr>\n",
       "  </thead>\n",
       "  <tbody>\n",
       "    <tr>\n",
       "      <th>0</th>\n",
       "      <td>A</td>\n",
       "      <td>14693</td>\n",
       "      <td>1567</td>\n",
       "      <td>107</td>\n",
       "      <td>92096.0</td>\n",
       "      <td>860.71</td>\n",
       "      <td>6.83</td>\n",
       "      <td>10.66</td>\n",
       "    </tr>\n",
       "    <tr>\n",
       "      <th>1</th>\n",
       "      <td>B</td>\n",
       "      <td>59883</td>\n",
       "      <td>6923</td>\n",
       "      <td>434</td>\n",
       "      <td>481230.0</td>\n",
       "      <td>1108.82</td>\n",
       "      <td>6.27</td>\n",
       "      <td>11.56</td>\n",
       "    </tr>\n",
       "  </tbody>\n",
       "</table>\n",
       "</div>"
      ],
      "text/plain": [
       "  grp  sum_id  sum_act_id  sum_buyer   sum_rev    ARPPU    CR     AU\n",
       "0   A   14693        1567        107   92096.0   860.71  6.83  10.66\n",
       "1   B   59883        6923        434  481230.0  1108.82  6.27  11.56"
      ]
     },
     "execution_count": 62,
     "metadata": {},
     "output_type": "execute_result"
    }
   ],
   "source": [
    "updade_data(df_groups_add)"
   ]
  },
  {
   "cell_type": "code",
   "execution_count": 63,
   "metadata": {},
   "outputs": [
    {
     "data": {
      "text/html": [
       "<div>\n",
       "<style scoped>\n",
       "    .dataframe tbody tr th:only-of-type {\n",
       "        vertical-align: middle;\n",
       "    }\n",
       "\n",
       "    .dataframe tbody tr th {\n",
       "        vertical-align: top;\n",
       "    }\n",
       "\n",
       "    .dataframe thead th {\n",
       "        text-align: right;\n",
       "    }\n",
       "</style>\n",
       "<table border=\"1\" class=\"dataframe\">\n",
       "  <thead>\n",
       "    <tr style=\"text-align: right;\">\n",
       "      <th></th>\n",
       "      <th>id</th>\n",
       "      <th>grp</th>\n",
       "      <th>act</th>\n",
       "      <th>rev</th>\n",
       "      <th>pay</th>\n",
       "    </tr>\n",
       "  </thead>\n",
       "  <tbody>\n",
       "    <tr>\n",
       "      <th>0</th>\n",
       "      <td>1489</td>\n",
       "      <td>B</td>\n",
       "      <td>False</td>\n",
       "      <td>0.0</td>\n",
       "      <td>False</td>\n",
       "    </tr>\n",
       "    <tr>\n",
       "      <th>1</th>\n",
       "      <td>1627</td>\n",
       "      <td>A</td>\n",
       "      <td>True</td>\n",
       "      <td>990.0</td>\n",
       "      <td>True</td>\n",
       "    </tr>\n",
       "    <tr>\n",
       "      <th>2</th>\n",
       "      <td>1768</td>\n",
       "      <td>B</td>\n",
       "      <td>False</td>\n",
       "      <td>0.0</td>\n",
       "      <td>False</td>\n",
       "    </tr>\n",
       "    <tr>\n",
       "      <th>3</th>\n",
       "      <td>1783</td>\n",
       "      <td>B</td>\n",
       "      <td>False</td>\n",
       "      <td>0.0</td>\n",
       "      <td>False</td>\n",
       "    </tr>\n",
       "    <tr>\n",
       "      <th>4</th>\n",
       "      <td>1794</td>\n",
       "      <td>A</td>\n",
       "      <td>False</td>\n",
       "      <td>0.0</td>\n",
       "      <td>False</td>\n",
       "    </tr>\n",
       "    <tr>\n",
       "      <th>...</th>\n",
       "      <td>...</td>\n",
       "      <td>...</td>\n",
       "      <td>...</td>\n",
       "      <td>...</td>\n",
       "      <td>...</td>\n",
       "    </tr>\n",
       "    <tr>\n",
       "      <th>74571</th>\n",
       "      <td>200247820</td>\n",
       "      <td>B</td>\n",
       "      <td>False</td>\n",
       "      <td>0.0</td>\n",
       "      <td>False</td>\n",
       "    </tr>\n",
       "    <tr>\n",
       "      <th>74572</th>\n",
       "      <td>201032527</td>\n",
       "      <td>B</td>\n",
       "      <td>False</td>\n",
       "      <td>0.0</td>\n",
       "      <td>False</td>\n",
       "    </tr>\n",
       "    <tr>\n",
       "      <th>74573</th>\n",
       "      <td>201067612</td>\n",
       "      <td>B</td>\n",
       "      <td>False</td>\n",
       "      <td>0.0</td>\n",
       "      <td>False</td>\n",
       "    </tr>\n",
       "    <tr>\n",
       "      <th>74574</th>\n",
       "      <td>201067653</td>\n",
       "      <td>B</td>\n",
       "      <td>False</td>\n",
       "      <td>0.0</td>\n",
       "      <td>False</td>\n",
       "    </tr>\n",
       "    <tr>\n",
       "      <th>74575</th>\n",
       "      <td>201067659</td>\n",
       "      <td>B</td>\n",
       "      <td>False</td>\n",
       "      <td>0.0</td>\n",
       "      <td>False</td>\n",
       "    </tr>\n",
       "  </tbody>\n",
       "</table>\n",
       "<p>74576 rows × 5 columns</p>\n",
       "</div>"
      ],
      "text/plain": [
       "              id grp    act    rev    pay\n",
       "0           1489   B  False    0.0  False\n",
       "1           1627   A   True  990.0   True\n",
       "2           1768   B  False    0.0  False\n",
       "3           1783   B  False    0.0  False\n",
       "4           1794   A  False    0.0  False\n",
       "...          ...  ..    ...    ...    ...\n",
       "74571  200247820   B  False    0.0  False\n",
       "74572  201032527   B  False    0.0  False\n",
       "74573  201067612   B  False    0.0  False\n",
       "74574  201067653   B  False    0.0  False\n",
       "74575  201067659   B  False    0.0  False\n",
       "\n",
       "[74576 rows x 5 columns]"
      ]
     },
     "execution_count": 63,
     "metadata": {},
     "output_type": "execute_result"
    }
   ],
   "source": [
    "final_df"
   ]
  },
  {
   "cell_type": "code",
   "execution_count": 64,
   "metadata": {},
   "outputs": [
    {
     "data": {
      "text/html": [
       "<div>\n",
       "<style scoped>\n",
       "    .dataframe tbody tr th:only-of-type {\n",
       "        vertical-align: middle;\n",
       "    }\n",
       "\n",
       "    .dataframe tbody tr th {\n",
       "        vertical-align: top;\n",
       "    }\n",
       "\n",
       "    .dataframe thead th {\n",
       "        text-align: right;\n",
       "    }\n",
       "</style>\n",
       "<table border=\"1\" class=\"dataframe\">\n",
       "  <thead>\n",
       "    <tr style=\"text-align: right;\">\n",
       "      <th></th>\n",
       "      <th>grp</th>\n",
       "      <th>sum_id</th>\n",
       "      <th>sum_act_id</th>\n",
       "      <th>sum_buyer</th>\n",
       "      <th>sum_rev</th>\n",
       "      <th>ARPPU</th>\n",
       "      <th>CR</th>\n",
       "      <th>AU</th>\n",
       "    </tr>\n",
       "  </thead>\n",
       "  <tbody>\n",
       "    <tr>\n",
       "      <th>0</th>\n",
       "      <td>A</td>\n",
       "      <td>14693</td>\n",
       "      <td>1567</td>\n",
       "      <td>107</td>\n",
       "      <td>92096.0</td>\n",
       "      <td>860.71</td>\n",
       "      <td>6.83</td>\n",
       "      <td>10.66</td>\n",
       "    </tr>\n",
       "    <tr>\n",
       "      <th>1</th>\n",
       "      <td>B</td>\n",
       "      <td>59883</td>\n",
       "      <td>6923</td>\n",
       "      <td>434</td>\n",
       "      <td>481230.0</td>\n",
       "      <td>1108.82</td>\n",
       "      <td>6.27</td>\n",
       "      <td>11.56</td>\n",
       "    </tr>\n",
       "  </tbody>\n",
       "</table>\n",
       "</div>"
      ],
      "text/plain": [
       "  grp  sum_id  sum_act_id  sum_buyer   sum_rev    ARPPU    CR     AU\n",
       "0   A   14693        1567        107   92096.0   860.71  6.83  10.66\n",
       "1   B   59883        6923        434  481230.0  1108.82  6.27  11.56"
      ]
     },
     "execution_count": 64,
     "metadata": {},
     "output_type": "execute_result"
    }
   ],
   "source": [
    "df_info"
   ]
  },
  {
   "cell_type": "code",
   "execution_count": 65,
   "metadata": {},
   "outputs": [],
   "source": [
    "def vizualization(df_info, final_df):\n",
    "    \n",
    "    '''\n",
    "    Функция для визуализации. Принимает:\n",
    "    df_info - таблица с метриками ['grp', 'sum_id', 'sum_act_id', 'sum_buyer', 'sum_rev', 'ARPPU', 'CR', 'AU'],\n",
    "    final_df - результирующая таблица с данными['id', 'grp' , 'act' , 'rev', 'pay']\n",
    "    '''\n",
    "    \n",
    "    sns.set(\n",
    "    font_scale=1.6,\n",
    "    style=\"whitegrid\"\n",
    "        )\n",
    "    \n",
    "    control_rev = final_df.query('grp == \"A\" & rev > 0').rev\n",
    "    test_rev    = final_df.query('grp == \"B\" & rev > 0').rev\n",
    "    \n",
    "    # Графики распределения сумм покупок по группам\n",
    "    fig, axes = plt.subplots(nrows=1, ncols=2, figsize=(20, 8))\n",
    "\n",
    "    sns.histplot(control_rev, ax=axes[0], color='r')\n",
    "    sns.histplot(test_rev, ax=axes[1], color='b')\n",
    "    axes[0].set(title='Revenue group A', xlabel='Expenses')\n",
    "    axes[1].set(title='Revenue group B', xlabel='Expenses')\n",
    "    \n",
    "    # Боксплот покупок и показатели среднего чека по группам\n",
    "    fig, axes = plt.subplots(nrows=1, ncols=2, figsize=(20, 8))\n",
    "    \n",
    "    sns.boxplot(data=final_df[final_df.rev > 0], x='grp', y='rev', ax=axes[0], palette = ['r', 'b'])\n",
    "    sns.barplot(x='grp', y='ARPPU', data=df_info, ax=axes[1], palette = ['r', 'b'])\n",
    "    axes[0].set(title='Revenue by groups', ylabel='', xlabel='Groups')\n",
    "    axes[1].set(title='ARPPU', ylabel='', xlabel='Groups')\n",
    "    \n",
    "    \n",
    "    # Показатели конверсии в покупателя и активности по группам\n",
    "    fig, axes = plt.subplots(nrows=1, ncols=2, figsize=(20, 8))\n",
    "    \n",
    "    sns.barplot(x='grp', y='CR', data=df_info, ax=axes[0], palette = ['r', 'b'])\n",
    "    sns.barplot(x='grp', y='AU', data=df_info, ax=axes[1], palette = ['r', 'b'])\n",
    "    axes[0].set(title='CR', ylabel='', xlabel='Groups')    \n",
    "    axes[1].set(title='AU', ylabel='', xlabel='Groups')\n",
    "    \n",
    "    \n",
    "    \n",
    "    plt.show()"
   ]
  },
  {
   "cell_type": "code",
   "execution_count": 66,
   "metadata": {
    "scrolled": false
   },
   "outputs": [
    {
     "data": {
      "image/png": "[encoded data removed]",
      "text/plain": [
       "<Figure size 1440x576 with 2 Axes>"
      ]
     },
     "metadata": {},
     "output_type": "display_data"
    },
    {
     "data": {
      "image/png": "[encoded data removed]",
      "text/plain": [
       "<Figure size 1440x576 with 2 Axes>"
      ]
     },
     "metadata": {},
     "output_type": "display_data"
    },
    {
     "data": {
      "image/png": "[encoded data removed]",
      "text/plain": [
       "<Figure size 1440x576 with 2 Axes>"
      ]
     },
     "metadata": {},
     "output_type": "display_data"
    }
   ],
   "source": [
    "vizualization(df_info, final_df)"
   ]
  },
  {
   "cell_type": "code",
   "execution_count": null,
   "metadata": {},
   "outputs": [],
   "source": []
  }
 ],
 "metadata": {
  "kernelspec": {
   "display_name": "Python 3.9.12 ('base')",
   "language": "python",
   "name": "python3"
  },
  "language_info": {
   "codemirror_mode": {
    "name": "ipython",
    "version": 3
   },
   "file_extension": ".py",
   "mimetype": "text/x-python",
   "name": "python",
   "nbconvert_exporter": "python",
   "pygments_lexer": "ipython3",
   "version": "3.9.12"
  },
  "vscode": {
   "interpreter": {
    "hash": "277d713a2869ad522e0f58de96fa3cb2620734b34dd3b3afd7f1966d69d2580f"
   }
  }
 },
 "nbformat": 4,
 "nbformat_minor": 4
}
